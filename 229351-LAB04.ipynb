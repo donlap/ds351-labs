{
  "cells": [
    {
      "cell_type": "markdown",
      "metadata": {
        "id": "rUWDxJYaXbGS"
      },
      "source": [
        "ปฏิบัติการครั้งที่ 4 กระบวนวิชา 229351 Statistical Learning for Data Science\n",
        "\n",
        "คำชี้แจง\n",
        "\n",
        "ให้เริ่มทำปฏิบัติการจาก colab notebook ที่กำหนดให้ จากนั้น share แล้วส่ง link ใน mango.cmu.ac.th"
      ]
    },
    {
      "cell_type": "markdown",
      "metadata": {
        "id": "BFeBRlckOxSG"
      },
      "source": [
        "ดาวน์โหลดข้อมูลรถยนต์ชนิดต่างใน link ข้างล่างนี้ หรือรันโค้ดข้างล่าง\n",
        "https://donlapark.pages.dev/229351/data/Auto.csv  "
      ]
    },
    {
      "cell_type": "code",
      "execution_count": null,
      "metadata": {
        "id": "myL9eC6AHOnh"
      },
      "outputs": [],
      "source": [
        "!wget https://donlapark.pages.dev/229351/data/Auto.csv"
      ]
    },
    {
      "cell_type": "code",
      "execution_count": null,
      "metadata": {
        "id": "5Tebr3-dBKxj"
      },
      "outputs": [],
      "source": [
        "# import module ที่ต้องใช้\n",
        "import numpy as np\n",
        "import pandas as pd\n",
        "from scipy import stats"
      ]
    },
    {
      "cell_type": "code",
      "execution_count": null,
      "metadata": {
        "id": "O_4Mr2OWaAae"
      },
      "outputs": [],
      "source": [
        "# อ่านไฟล์ csv ก่อนเพื่อหา missing values\n",
        "auto_df = pd.read_csv('Auto.csv',na_values=[\"?\"])\n",
        "\n",
        "# ลบแถวที่มี missing values\n",
        "auto_df = auto_df.dropna()\n",
        "auto_df.head()"
      ]
    },
    {
      "cell_type": "code",
      "execution_count": null,
      "metadata": {
        "id": "XlOmwZlvQXAR"
      },
      "outputs": [],
      "source": [
        "auto_df.info()"
      ]
    },
    {
      "cell_type": "markdown",
      "metadata": {
        "id": "zfagQVgUX-FG"
      },
      "source": [
        "* Predictor: `horsepower` $X = [x_1,x_2,\\ldots,x_n]$\n",
        "* Response: `mpg` $y = [y_1,y_2,\\ldots,y_n]$\n",
        "* สมการ $\\hat{y}_i = \\hat{\\beta}_0+\\hat{\\beta}_1x_i, \\ \\ \\ \\ $     $ i=1,2,\\ldots,n$  "
      ]
    },
    {
      "cell_type": "code",
      "execution_count": null,
      "metadata": {
        "id": "d27hjkZXX-OR"
      },
      "outputs": [],
      "source": [
        "X = auto_df['horsepower']\n",
        "y = auto_df['mpg']"
      ]
    },
    {
      "cell_type": "markdown",
      "metadata": {
        "id": "DntRinCFiSMx"
      },
      "source": [
        "คำนวณสัมประสิทธิ์ $\\hat{\\beta}_0,\\hat{\\beta}_1$ ด้วยสูตร\n",
        "\\begin{align*}\n",
        "\\hat{\\beta}_1 &= \\frac{\\sum_{i=1}^n (x_i-\\bar{x})(y_i-\\bar{y})}{\\sum_{i=1}^n (x_i-\\bar{x})^2} \\\\\n",
        "&= \\frac{\\text{Cov}(X,y)}{\\text{Var}(X)}\\\\\n",
        "\\hat{\\beta}_0 &= \\bar{y}-\\hat{\\beta}_1\\bar{x}\n",
        "\\end{align*}\n",
        "  \n",
        "ใช้คำสั่ง $\\texttt{np.cov(X,y)}=\\begin{pmatrix}\n",
        "\\text{Var}(X)  & \\text{Cov}(X,y) \\\\\n",
        "\\text{Cov}(y,X)  & \\text{Var}(y)\n",
        "\\end{pmatrix}\n",
        "$ สำหรับ covariance matrix ระหว่างเวกเตอร์ $\\texttt{X}$ และ $\\texttt{y}$  \n",
        "ใช้คำสั่ง $\\texttt{np.mean(X)}$ และ $\\texttt{np.mean(y)}$ สำหรับค่าเฉลี่ยของเวกเตอร์ $\\texttt{X}$ และ $\\texttt{y}$"
      ]
    },
    {
      "cell_type": "markdown",
      "metadata": {
        "id": "6pVSHFV1HOnp"
      },
      "source": [
        "#### Exercise 1:\n",
        "\n",
        "- เติมโค้ดในฟังก์ชัน `linear_model` ที่คำนวณค่าสัมประสิทธิ์ (coefficients) จากข้อมูล `X` และ `y`\n",
        "- เติมโค้ดในฟังก์ชัน `predict` ที่คำนวณค่าทำนาย จากข้อมูลตัวแปรต้น `X` และสัมประสิทธิ์ของโมเดล `beta_0` และ `beta_1`"
      ]
    },
    {
      "cell_type": "code",
      "execution_count": null,
      "metadata": {
        "id": "-gCRXKb8fkuH"
      },
      "outputs": [],
      "source": [
        "# Let's start by implementing linear regression from scratch\n",
        "# using numpy linear algebra\n",
        "\n",
        "def linear_model(X, y):\n",
        "    \"\"\"X: numpy array เวกเตอร์ของตัวแปรต้น\"\"\"\n",
        "    \"\"\"y: numpy array เวกเตอร์ของตัวแปรตาม\"\"\"\n",
        "    \"\"\"Return: (beta_0 , beta_1) <-- tuple ของสัมประสิทธิ์\"\"\"\n",
        "\n",
        "    #TODO: COMPLETE THE FUNCTION\n",
        "\n",
        "\n",
        "\n",
        "\n",
        "    return beta_0 , beta_1\n",
        "\n",
        "def predict(beta_0 , beta_1, X):\n",
        "    \"\"\"beta_0: ค่าตัดแกน\"\"\"\n",
        "    \"\"\"beta_1: ความชัน\"\"\"\n",
        "    \"\"\"X: เวกเตอร์ของตัวแปรต้น (Numpy หรือ Pandas)\"\"\"\n",
        "    \"\"\"Return: เวกเตอร์ของค่าทำนาย [y^_1, y^_2, ..., y^_n]\"\"\"\n",
        "\n",
        "    return #TODO: COMPLETE THE FUNCTION\n",
        "\n"
      ]
    },
    {
      "cell_type": "code",
      "execution_count": null,
      "metadata": {
        "id": "tPeMAsffqPFR"
      },
      "outputs": [],
      "source": [
        "beta_0, beta_1 = linear_model(X, y)\n",
        "y_pred = predict(beta_0 , beta_1, X)\n",
        "\n",
        "print(beta_0,beta_1)"
      ]
    },
    {
      "cell_type": "code",
      "execution_count": null,
      "metadata": {
        "id": "_vthb9XCiYfo"
      },
      "outputs": [],
      "source": [
        "# นับจำนวนข้อมูล\n",
        "\n",
        "print(y.shape)\n",
        "\n",
        "n = y.shape[0]\n",
        "print(n)"
      ]
    },
    {
      "cell_type": "markdown",
      "metadata": {
        "id": "wbRqP-L9qFRX"
      },
      "source": [
        "#### Exercise 2: คำนวณ Residual Sum of Squares (RSS)\n",
        "$$ \\text{RSS} = \\sum_{i=1}^n (y_i-\\hat{y}_i)^2 $$\n",
        "โดยใช้คำสั่งต่อไปนี้\n",
        "\n",
        "$\\texttt{np.sum}([x_1,x_2,...,x_n])=x_1+x_2+...+x_n$\n",
        "\n",
        "$\\texttt{np.square}([x_1,x_2,...,x_n])=[x_1^2,x^2_2,...,x^2_n]$"
      ]
    },
    {
      "cell_type": "code",
      "execution_count": null,
      "metadata": {
        "id": "pYAI-2fhqFvx"
      },
      "outputs": [],
      "source": [
        "# TODO: Calculate Residual Sum of Squares\n",
        "RSS =\n",
        "\n",
        "print(RSS)"
      ]
    },
    {
      "cell_type": "markdown",
      "metadata": {
        "id": "iLm_WXA7ryIl"
      },
      "source": [
        "#### Exercise 3: คำนวณ Residual Standard Error (RSE)  \n",
        "$$  \\text{RSE} = \\sqrt{\\frac{\\text{RSS}}{n-2}} $$"
      ]
    },
    {
      "cell_type": "code",
      "execution_count": null,
      "metadata": {
        "id": "Bcg0yIPTsLPB"
      },
      "outputs": [],
      "source": [
        "# TODO: Calculate Residual Standard Error\n",
        "RSE = np.sqrt()\n",
        "\n",
        "print(RSE)"
      ]
    },
    {
      "cell_type": "markdown",
      "metadata": {
        "id": "tqmOPP4ctv7S"
      },
      "source": [
        "#### Exercise 4: คำนวณ Standard Error (SE)  \n",
        "\\begin{align*}\n",
        "\\text{SE}(\\hat{\\beta}_0) &= \\text{RSE}\\sqrt{\\frac{1}{n}+\\frac{\\bar{x}^2}{\\sum_{i=1}^n (x_i-\\bar{x})^2}} \\\\\n",
        "\\text{SE}(\\hat{\\beta}_1) &= \\text{RSE}\\sqrt{\\frac{1}{\\sum_{i=1}^n (x_i-\\bar{x})^2}}\n",
        "\\end{align*}"
      ]
    },
    {
      "cell_type": "code",
      "execution_count": null,
      "metadata": {
        "id": "IJwkRoYlt8U_"
      },
      "outputs": [],
      "source": [
        "# TODO: Calculate the standard error of each coefficients\n",
        "\n",
        "# SE(β₀)\n",
        "SE_beta_0 =\n",
        "\n",
        "# SE(β₁)\n",
        "SE_beta_1 =\n",
        "\n",
        "print('SE(β₀): ', SE_beta_0)\n",
        "print('SE(β₁): ', SE_beta_1)"
      ]
    },
    {
      "cell_type": "markdown",
      "metadata": {
        "id": "t0nejek4uCGc"
      },
      "source": [
        "#### Exercise 5: คำนวณขอบล่าง (lower) และขอบบน (upper) ของ confidence interval\n",
        "$$I_i = [\\hat{\\beta}_i-2\\cdot\\text{SE}(\\hat{\\beta}_i),\\hat{\\beta}_i+2\\cdot\\text{SE}(\\hat{\\beta}_i)]$$"
      ]
    },
    {
      "cell_type": "code",
      "execution_count": null,
      "metadata": {
        "id": "R9mNKz9quCW5"
      },
      "outputs": [],
      "source": [
        "# TODO: Calculate 95% confidence interval\n",
        "\n",
        "# Confidence interval of β₀\n",
        "lower_0 =\n",
        "upper_0 =\n",
        "\n",
        "# Confidence interval of β₁\n",
        "lower_1 =\n",
        "upper_1 =\n",
        "\n",
        "print(f'Confidence interval of β₀: [{lower_0},{upper_0}]')\n",
        "print(f'Confidence interval of β₁: [{lower_1},{upper_1}]')"
      ]
    },
    {
      "cell_type": "markdown",
      "metadata": {
        "id": "X3FQua64uLvr"
      },
      "source": [
        "#### Code ข้างล่างนี้แสดงผลของค่าทั้งหมดที่เราคำนวณไปแล้ว"
      ]
    },
    {
      "cell_type": "code",
      "execution_count": null,
      "metadata": {
        "id": "TWoz-qMICQsv"
      },
      "outputs": [],
      "source": [
        "X = auto_df['horsepower']\n",
        "\n",
        "# Present results\n",
        "results = pd.DataFrame({'feature': ['Intercept', X.name],\n",
        "                        'coefficients': [beta_0,beta_1],\n",
        "                        'standard_error': [SE_beta_0,SE_beta_1],\n",
        "                        '[0.025': [lower_0,lower_1],\n",
        "                        '0.975]': [upper_0,upper_1]})\n",
        "\n",
        "results"
      ]
    },
    {
      "cell_type": "markdown",
      "metadata": {
        "id": "4jXXkB5xHOnx"
      },
      "source": [
        "## Linear Regression in `Scikit-Learn`\n",
        "\n",
        "#### [Documentation](https://scikit-learn.org/stable/modules/generated/sklearn.linear_model.LinearRegression.html)"
      ]
    },
    {
      "cell_type": "code",
      "execution_count": null,
      "metadata": {
        "id": "tl3bDgAEHOnx"
      },
      "outputs": [],
      "source": [
        "from sklearn.linear_model import LinearRegression\n",
        "\n",
        "reg = LinearRegression()\n",
        "reg.fit(X.to_numpy().reshape(-1, 1), y.to_numpy().reshape(-1, 1))"
      ]
    },
    {
      "cell_type": "markdown",
      "metadata": {
        "id": "LXcAOd-kHOnx"
      },
      "source": [
        "#### ความชัน"
      ]
    },
    {
      "cell_type": "code",
      "execution_count": null,
      "metadata": {
        "id": "RoikumLqHOny"
      },
      "outputs": [],
      "source": []
    },
    {
      "cell_type": "markdown",
      "metadata": {
        "id": "2SEjhx2OHOny"
      },
      "source": [
        "#### ค่าตัดแกน"
      ]
    },
    {
      "cell_type": "code",
      "execution_count": null,
      "metadata": {
        "id": "vuMFkD2SHOnz"
      },
      "outputs": [],
      "source": []
    },
    {
      "cell_type": "markdown",
      "metadata": {
        "id": "p1UXHza4HOnz"
      },
      "source": [
        "#### ทำนายจากตัวแปรต้น"
      ]
    },
    {
      "cell_type": "code",
      "execution_count": null,
      "metadata": {
        "id": "YTaA50JvHOnz"
      },
      "outputs": [],
      "source": [
        "y_pred = reg.predict(X.to_numpy().reshape(-1, 1))\n",
        "\n",
        "y_pred"
      ]
    },
    {
      "cell_type": "markdown",
      "metadata": {
        "id": "TdK7apHRHOn0"
      },
      "source": [
        "## Linear Regression in `statsmodels\n",
        "\n",
        "#### [Documentation](https://www.statsmodels.org/stable/regression.html)"
      ]
    },
    {
      "cell_type": "markdown",
      "metadata": {
        "id": "kvxBs5Hlk5rZ"
      },
      "source": [
        "#### มีสองวิธึในการ fit linear regression:\n",
        "\n",
        "1. `statsmodels.api.sm.OLS`"
      ]
    },
    {
      "cell_type": "code",
      "execution_count": null,
      "metadata": {
        "id": "2srU_UiTbhS9"
      },
      "outputs": [],
      "source": [
        "import statsmodels.api as sm"
      ]
    },
    {
      "cell_type": "code",
      "execution_count": null,
      "metadata": {
        "id": "lTfWe5ARHOn1"
      },
      "outputs": [],
      "source": [
        "y = auto_df['mpg']\n",
        "X = auto_df['horsepower']\n",
        "\n",
        "# add bias constant;\n",
        "# without this the equation turns into y = βx\n",
        "X_one = sm.add_constant(X)\n",
        "\n",
        "X_one.head()"
      ]
    },
    {
      "cell_type": "code",
      "execution_count": null,
      "metadata": {
        "id": "3TLaHKqAHOn2"
      },
      "outputs": [],
      "source": [
        "# syntax is OLS(response, predictor)\n",
        "model1 = sm.OLS(y, X_one)\n",
        "model1 = model1.fit()\n",
        "print(model1.summary())"
      ]
    },
    {
      "cell_type": "code",
      "execution_count": null,
      "metadata": {
        "id": "FMb-XT1mHOn3"
      },
      "outputs": [],
      "source": [
        "# Make predictions\n",
        "y_pred_sm = model1.predict(X_one)\n",
        "\n",
        "y_pred_sm.head()"
      ]
    },
    {
      "cell_type": "markdown",
      "metadata": {
        "id": "CKD_I7nEHOn3"
      },
      "source": [
        "2. `statsmodels.formula.api.smf.ols`"
      ]
    },
    {
      "cell_type": "code",
      "execution_count": null,
      "metadata": {
        "id": "9JpkxeQd2i8a"
      },
      "outputs": [],
      "source": [
        "import statsmodels.formula.api as smf\n",
        "\n",
        "#syntax is ols(formula, dataset)\n",
        "model2 = smf.ols('mpg ~ horsepower', auto_df)\n",
        "model2 = model2.fit()\n",
        "print(model2.summary())"
      ]
    },
    {
      "cell_type": "code",
      "execution_count": null,
      "metadata": {
        "id": "6uyxC6jv_sBn"
      },
      "outputs": [],
      "source": [
        "# Make predictions\n",
        "y_pred_fm = model2.predict(X)\n",
        "\n",
        "y_pred_fm.head()"
      ]
    },
    {
      "cell_type": "code",
      "source": [
        "y_pred_fm = model2.predict(auto_df)\n",
        "\n",
        "y_pred_fm.head()"
      ],
      "metadata": {
        "id": "I4wTMz1dPqa_"
      },
      "execution_count": null,
      "outputs": []
    },
    {
      "cell_type": "markdown",
      "metadata": {
        "id": "pp8J2lKI0Vea"
      },
      "source": [
        "#### Exercise 6: จงตอบคำถามต่อไปนี้\n",
        "\n",
        "1. จากโมเดลนี้ ถ้ารถยนต์มีแรงม้า 200 hp จะมีระยะการวิ่งเท่าไหร่ต่อแกลลอน\n",
        "2. บอกความหมายของช่วงความเชื่อมั่นของ $\\beta_1$ ที่ได้\n",
        "3. ระหว่างช่วงของสัมประสิทธิ์ $\\beta_0$ กับ $\\beta_1$ ช่วงไหนที่กว้างกว่ากัน"
      ]
    },
    {
      "cell_type": "markdown",
      "metadata": {
        "id": "nV8zBqotHOn5"
      },
      "source": [
        "#### Extra: Plotting data and regression line"
      ]
    },
    {
      "cell_type": "code",
      "execution_count": null,
      "metadata": {
        "id": "A4qDXQ97Dqjk"
      },
      "outputs": [],
      "source": [
        "import matplotlib.pyplot as plt\n",
        "\n",
        "X = auto_df['horsepower']\n",
        "\n",
        "# Scatter plot ของ x และ y\n",
        "plt.scatter(X, y)\n",
        "\n",
        "# เส้นของ linear regression\n",
        "plt.plot(X, y_pred);"
      ]
    }
  ],
  "metadata": {
    "colab": {
      "name": "229351-LAB05.ipynb",
      "provenance": []
    },
    "kernelspec": {
      "display_name": "Python 3 (ipykernel)",
      "language": "python",
      "name": "python3"
    },
    "language_info": {
      "codemirror_mode": {
        "name": "ipython",
        "version": 3
      },
      "file_extension": ".py",
      "mimetype": "text/x-python",
      "name": "python",
      "nbconvert_exporter": "python",
      "pygments_lexer": "ipython3",
      "version": "3.10.12"
    }
  },
  "nbformat": 4,
  "nbformat_minor": 0
}