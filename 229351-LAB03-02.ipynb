{
  "cells": [
    {
      "cell_type": "markdown",
      "metadata": {
        "id": "rUWDxJYaXbGS"
      },
      "source": [
        "ปฏิบัติการครั้งที่ 3 กระบวนวิชา 229351 Statistical Learning for Data Science\n",
        "\n",
        "คำชี้แจง\n",
        "\n",
        "1. ให้เริ่มทำปฏิบัติการจาก colab notebook ที่กำหนดให้ จากนั้นบันทึกเป็นไฟล์ *.pdf"
      ]
    },
    {
      "cell_type": "markdown",
      "metadata": {
        "id": "40DP82euz0nP"
      },
      "source": [
        "### ในปฏิบัติการนี้เราจะฝึกการทำ PCA ด้วยสองวิธี คือ\n",
        "1. หาด้วยการแยกส่วนประกอบของเมทริกซ์ผ่าน numpy\n",
        "2. หาด้วยการใช้เครื่องมือที่มีมาให้ใน scikit-learn"
      ]
    },
    {
      "cell_type": "markdown",
      "metadata": {
        "id": "BFeBRlckOxSG"
      },
      "source": [
        "ดาวน์โหลดข้อมูลสัตว์ต่างๆ 50 ชนิดดังนี้  \n",
        "ชนิดสัตว์: https://donlapark.pages.dev/229351/data/classes.txt  \n",
        "ตัวแปรต่างๆ: https://donlapark.pages.dev/229351/data/predicates.txt  \n",
        "ค่าของสัตว์แต่ละชนิด: https://donlapark.pages.dev/229351/data/predicate-matrix-continuous.txt"
      ]
    },
    {
      "cell_type": "code",
      "execution_count": null,
      "metadata": {
        "id": "j_cb12E477_I"
      },
      "outputs": [],
      "source": [
        "!pip install -q wget\n",
        "\n",
        "import numpy as np\n",
        "from matplotlib import pyplot as plt\n",
        "from sklearn.decomposition import PCA\n",
        "\n"
      ]
    },
    {
      "cell_type": "code",
      "execution_count": null,
      "metadata": {
        "id": "m4HFWsz5j8sS"
      },
      "outputs": [],
      "source": [
        "# Download the files\n",
        "!wget -O classes.txt https://donlapark.pages.dev/229351/data/classes.txt\n",
        "!wget -O predicate-matrix-continuous.txt https://donlapark.pages.dev/229351/data/predicate-matrix-continuous.txt"
      ]
    },
    {
      "cell_type": "code",
      "execution_count": null,
      "metadata": {
        "id": "5Tebr3-dBKxj"
      },
      "outputs": [],
      "source": [
        "classes = np.genfromtxt('classes.txt',dtype='str')\n",
        "\n",
        "classes[:5]"
      ]
    },
    {
      "cell_type": "code",
      "execution_count": null,
      "metadata": {
        "id": "O_4Mr2OWaAae"
      },
      "outputs": [],
      "source": [
        "data = np.genfromtxt('predicate-matrix-continuous.txt')\n",
        "\n",
        "data[:5,:5]"
      ]
    },
    {
      "cell_type": "markdown",
      "metadata": {
        "id": "DntRinCFiSMx"
      },
      "source": [
        "#### Exercise 1\n",
        "\n",
        "ใน code block ข้างล่างนี้ จงทำ PCA บนข้อมูลที่ได้มาให้เหลือเมทริกซ์ข้อมูลที่มีตัวแปรแค่ 2 ตัว โดยใช้ฟังก์ชัน $\\texttt{np.linalg.eigh}$  \n",
        "ดังนั้น เมทริกซ์ที่ได้ต้องมีขนาด 50x2"
      ]
    },
    {
      "cell_type": "markdown",
      "metadata": {
        "id": "H-aWhy49CquB"
      },
      "source": [
        "$$ \\Sigma =\n",
        "  \\begin{pmatrix}\n",
        "\\text{var}(X_1) & \\text{cov}(X_1,X_2) & \\cdots & \\text{cov}(X_1,X_{85}) \\\\\n",
        "\\text{cov}(X_2,X_1) & \\text{var}(X_2) & \\cdots & \\text{cov}(X_2,X_{85}) \\\\\n",
        "\\vdots & \\vdots & \\ddots & \\vdots \\\\\n",
        "\\text{cov}(X_{85},X_1) & \\text{cov}(X_{85},X_1) & \\cdots & \\text{var}(X_{85}) \\\\\n",
        "\\end{pmatrix}\n",
        " $$"
      ]
    },
    {
      "cell_type": "code",
      "execution_count": null,
      "metadata": {
        "id": "-gCRXKb8fkuH",
        "scrolled": true
      },
      "outputs": [],
      "source": [
        "# TODO: enter code here\n",
        "\n",
        "# 1. Center ข้อมูล สมมติว่า data_c คือ normalized (centered) data\n",
        "\n",
        "# 2. หา covariance matrix\n",
        "\n",
        "# 3. Decompose the covariance matrix UDU^T\n",
        "\n",
        "# 4. ดึง column ของ U ที่ประกอบไปด้วย eigenvector สองตัวที่มีค่า eigenvalue สูงที่สุด\n",
        "\n",
        "# 5. เอา data_c ไปทำ projection ทิศทางของ eigenvector ใน U\n",
        "\n",
        "# Result: a (50,2) matrix\n"
      ]
    },
    {
      "cell_type": "markdown",
      "metadata": {
        "id": "refYgya0jlfh"
      },
      "source": [
        "#### OPTIONAL\n",
        "\n",
        "ใน code block ข้างล่างนี้ จงทำ PCA บนข้อมูลที่ได้มาให้เหลือเมทริกซ์ข้อมูลที่มีตัวแปรแค่ 2 ตัว โดยใช้ $scikit-learn$  \n",
        "พร้อมกับตรวจสอบว่าเมทริกซ์ที่ได้จากทั้งสองวิธีนี้มีค่าเท่ากัน (ต่างกันแค่ค่าบวกลบ)"
      ]
    },
    {
      "cell_type": "code",
      "source": [],
      "metadata": {
        "id": "Je23TZDqDnc9"
      },
      "execution_count": null,
      "outputs": []
    },
    {
      "cell_type": "code",
      "execution_count": null,
      "metadata": {
        "id": "TWoz-qMICQsv"
      },
      "outputs": [],
      "source": [
        "#TODO (optional): enter code here"
      ]
    },
    {
      "cell_type": "markdown",
      "metadata": {
        "id": "kvxBs5Hlk5rZ"
      },
      "source": [
        "#### Exercise 2\n",
        "\n",
        "ทำการพล็อตจุดของข้อมูลที่ได้จาก PCA ข้างบนพร้อมกับใส่คำกำกับว่าจุดไหนเป็นของสัตว์ชนิดใดโดยใช้ชื่อสัตว์จาก classes.txt"
      ]
    },
    {
      "cell_type": "code",
      "execution_count": null,
      "metadata": {
        "id": "2srU_UiTbhS9"
      },
      "outputs": [],
      "source": [
        "# กำหนดขนาดของรูป\n",
        "plt.figure(figsize=(12,16))\n",
        "\n",
        "# จงเติม argument ที่เหมาะสมในวงเล็บข้างล่างนี้\n",
        "# รูปแบบของฟังก์ชันคือ plt.scatter(numpy array ของ x-coordinate, numpy array ของ y-coordinate)\n",
        "plt.scatter( #TODO: 1st column of your 50x2 matrix, #TODO: 2nd column of your 50x2 matrix )\n",
        "\n",
        "# for loop เพื่อใส่คำกำกับ (annotate) ชื่อสัตว์ของแต่ละจุด วนให้ครบสัตว์ทุกชนิดที่อยู่ใน classes\n",
        "# ใส่ numpy array ที่ผ่านการทำ PCA แล้วลงในตำแหน่งที่ระบุเพื่อบอกพิกัดที่ต้องวางคำกำกับ\n",
        "for i in range(50):\n",
        "  plt.annotate(\n",
        "          classes[i,1],\n",
        "          xy=(#TODO: YOUR_MATRIX[i,0],\n",
        "              #TODO YOUR_MATRIX[i,1]),\n",
        "              xytext=(5, -8),\n",
        "              textcoords='offset pixels')\n",
        "\n",
        "\n",
        "plt.show()"
      ]
    },
    {
      "cell_type": "markdown",
      "metadata": {
        "id": "pp8J2lKI0Vea"
      },
      "source": [
        "#### Exercise 3\n",
        "\n",
        "หากลุ่มสัตว์ต่างๆ ที่อยู่ใกล้กันมา 4 กลุ่ม แล้วลองอธิบายว่าสัตว์ในแต่ละกลุ่มมีอะไรที่เหมือนกัน"
      ]
    },
    {
      "cell_type": "markdown",
      "metadata": {
        "id": "SvI3Rwjcpt6c"
      },
      "source": [
        "1. ตัวอย่าง: กลุ่มสัตว์ที่มุมขวาบน ตัวอย่างเช่น... มีลักษณะที่เหมือนกันคือ...\n",
        "2.\n",
        "3.\n",
        "4."
      ]
    }
  ],
  "metadata": {
    "colab": {
      "name": "229351-LAB03-02.ipynb",
      "provenance": []
    },
    "kernelspec": {
      "display_name": "Python 3 (ipykernel)",
      "language": "python",
      "name": "python3"
    },
    "language_info": {
      "codemirror_mode": {
        "name": "ipython",
        "version": 3
      },
      "file_extension": ".py",
      "mimetype": "text/x-python",
      "name": "python",
      "nbconvert_exporter": "python",
      "pygments_lexer": "ipython3",
      "version": "3.10.12"
    }
  },
  "nbformat": 4,
  "nbformat_minor": 0
}