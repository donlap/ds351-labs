{
 "cells": [
  {
   "cell_type": "markdown",
   "metadata": {
    "id": "rUWDxJYaXbGS"
   },
   "source": [
    "ปฏิบัติการครั้งที่ 2 กระบวนวิชา 229351 Statistical Learning for Data Science\n",
    "\n",
    "คำชี้แจง\n",
    "\n",
    "1. ทำ exercise แล้วส่งโดยการ Share link ใน Mango"
   ]
  },
  {
   "cell_type": "code",
   "execution_count": null,
   "metadata": {
    "id": "W4mkSzTBalJi"
   },
   "outputs": [],
   "source": [
    "import numpy as np\n",
    "\n",
    "# ในการสร้างเวกเตอร์นั้นจะใช้ list หรือ numpy array ก็ได้\n",
    "\n",
    "v = [1,2,3,4,5]\n",
    "\n",
    "v = [x for x in range(1,6)] #comprehensive list\n",
    "\n",
    "v = list(range(1,6))\n",
    "\n",
    "print(v)\n"
   ]
  },
  {
   "cell_type": "code",
   "execution_count": null,
   "metadata": {
    "id": "XE7qG2DhLt1V"
   },
   "outputs": [],
   "source": [
    "len(v) #number of elements in v"
   ]
  },
  {
   "cell_type": "code",
   "execution_count": null,
   "metadata": {
    "id": "7TWReO68LYTO"
   },
   "outputs": [],
   "source": [
    "w = np.array([1,2,3,4,5]) # row vector\n",
    "\n",
    "x = np.array([[1],[2],[3],[4],[5]]) # column vector\n",
    "\n",
    "print(w)\n",
    "\n",
    "print(x)"
   ]
  },
  {
   "cell_type": "code",
   "execution_count": null,
   "metadata": {
    "id": "NZa2EvC3MQ8w"
   },
   "outputs": [],
   "source": [
    "print(w.shape)\n",
    "print(x.shape)"
   ]
  },
  {
   "cell_type": "markdown",
   "metadata": {
    "id": "qu9VCxBuFs62"
   },
   "source": [
    "### Indexing"
   ]
  },
  {
   "cell_type": "code",
   "execution_count": null,
   "metadata": {
    "id": "l7Qb9bC6PckH"
   },
   "outputs": [],
   "source": [
    "A = np.array([[1,2,3,4],[2,4,6,8],[3,6,9,12]])\n",
    "\n",
    "print(A)\n",
    "print(A[0,0])\n",
    "print(A[2,1])\n",
    "\n",
    "print(A[:])"
   ]
  },
  {
   "cell_type": "code",
   "execution_count": null,
   "metadata": {
    "id": "379fNyf7udQc"
   },
   "outputs": [],
   "source": [
    "print(A)\n",
    "\n",
    "print(A[0:2,0])\n",
    "\n",
    "print(A[0:2,1:3])\n",
    "\n",
    "print(A[:,0])\n",
    "\n",
    "print(A[:,:]) "
   ]
  },
  {
   "cell_type": "code",
   "execution_count": null,
   "metadata": {
    "id": "ZRzv6sZ7527z"
   },
   "outputs": [],
   "source": [
    "A[1,1] = 20\n",
    "\n",
    "print(A)"
   ]
  },
  {
   "cell_type": "code",
   "execution_count": null,
   "metadata": {
    "id": "Lfvam3jyJsv5"
   },
   "outputs": [],
   "source": [
    "A = np.array([[1,2,3,4],[2,4,6,8],[3,6,9,12]])\n",
    "\n",
    "print(A)\n",
    "\n",
    "u = [7,7,7]\n",
    "v = [3,3,3,3]\n",
    "\n",
    "A[:,1] = u # change j-th column to vector x\n",
    "\n",
    "print(A)\n",
    "\n",
    "A[2,:] = v # change i-th column to vector x\n",
    "\n",
    "print(A)"
   ]
  },
  {
   "cell_type": "markdown",
   "metadata": {
    "id": "ODXkp6O8FpFQ"
   },
   "source": [
    "### A view versus a copy"
   ]
  },
  {
   "cell_type": "code",
   "execution_count": null,
   "metadata": {
    "id": "gwdd84GBE1ZM"
   },
   "outputs": [],
   "source": [
    "B = A\n",
    "B[1,1] = 10\n",
    "\n",
    "print(A)"
   ]
  },
  {
   "cell_type": "code",
   "execution_count": null,
   "metadata": {
    "id": "XA6z45r1FCOj"
   },
   "outputs": [],
   "source": [
    "B = A.copy()\n",
    "\n",
    "B[1,1] = 5\n",
    "print(A)"
   ]
  },
  {
   "cell_type": "markdown",
   "metadata": {
    "id": "0_N4lVNaGQGJ"
   },
   "source": [
    "### Basic operations between a matrix and a number"
   ]
  },
  {
   "cell_type": "code",
   "execution_count": null,
   "metadata": {
    "id": "jPHnZVNOsTnP"
   },
   "outputs": [],
   "source": [
    "A = np.array([[1,2],[3,4]])\n",
    "\n",
    "B = A + 1\n",
    "\n",
    "C = 2*A \n",
    "\n",
    "D = A/2\n",
    "\n",
    "print(A, '<- A')\n",
    "\n",
    "print(B, '<- A+1')\n",
    "\n",
    "print(C, '<- 2*A')\n",
    "\n",
    "print(D, '<- A/2')"
   ]
  },
  {
   "cell_type": "markdown",
   "metadata": {
    "id": "oQ6H71EtGtiT"
   },
   "source": [
    "### Operations between a matrix and a vector"
   ]
  },
  {
   "cell_type": "code",
   "execution_count": null,
   "metadata": {
    "id": "9ZyADBep0b48"
   },
   "outputs": [],
   "source": [
    "A = np.array([[1,1,1,1],[1,1,1,1],[1,1,1,1]]) # (3,4) matrix\n",
    "\n",
    "u = [10,20,30,40] # (4,) list\n",
    "v = np.array([[100],[200],[300]]) # (4,1) array\n",
    "\n",
    "print(A, ' <- A')\n",
    "\n",
    "print(u, ' <- u')\n",
    "print(v, ' <- v')\n",
    "\n",
    "print(A+u, ' <- A+u')\n",
    "\n",
    "print(A+v, ' <- A+v')"
   ]
  },
  {
   "cell_type": "markdown",
   "metadata": {
    "id": "ntBlI_7YYpyK"
   },
   "source": [
    "### Elementwise matrix-vector multiplication/division"
   ]
  },
  {
   "cell_type": "code",
   "execution_count": null,
   "metadata": {
    "id": "2BAdEqlYJcLt"
   },
   "outputs": [],
   "source": [
    "A = np.array([[1,1,1,1],[1,1,1,1],[1,1,1,1]]) # (3,4) matrix\n",
    "\n",
    "u = [10,100,1000,10000] # (4,) list\n",
    "v = np.array([[20],[200],[2000]]) # (4,1) array\n",
    "\n",
    "print(A, ' <- A')\n",
    "print(u, ' <- u')\n",
    "print(v, ' <- v')\n",
    "print(A*u, ' <- A*u')\n",
    "print(A*v, ' <- A*v')\n",
    "print(A/u, ' <- A/u')\n",
    "print(A/v, ' <- A/v')"
   ]
  },
  {
   "cell_type": "markdown",
   "metadata": {
    "id": "7XqJ6DaRHzhv"
   },
   "source": [
    "### Elementwise matrix-matrix multiplication/division"
   ]
  },
  {
   "cell_type": "code",
   "execution_count": null,
   "metadata": {
    "id": "FmVk9HDZHqdg"
   },
   "outputs": [],
   "source": [
    "A = np.array([[1,2],[3,4]])\n",
    "\n",
    "B = np.array([[10,100],[1000,10000]])\n",
    "\n",
    "print(A, ' <- A')\n",
    "print(B, ' <- B')\n",
    "print(A*B, ' <- A*B')\n",
    "print(A/B, ' <- A/B')"
   ]
  },
  {
   "cell_type": "markdown",
   "metadata": {
    "id": "_b9jCfHGG7c2"
   },
   "source": [
    "### Matrix-vector multiplication"
   ]
  },
  {
   "cell_type": "code",
   "execution_count": null,
   "metadata": {
    "id": "P9Z2C6c2KXrH"
   },
   "outputs": [],
   "source": [
    "A = np.array([[1,2],[3,4]])\n",
    "\n",
    "u = [1,1]\n",
    "\n",
    "v = np.array([1,1]) #row vector\n",
    "\n",
    "w = np.array([[1],[1]]) #column vector\n",
    "\n",
    "print(A, ' <- A')\n",
    "print(u, ' <- u')\n",
    "print(v, ' <- v')\n",
    "print(w, ' <- w')\n",
    "\n",
    "print(A@u, ' <- Au') # matrix multiplication\n",
    "\n",
    "print(A@v, ' <- Av')\n",
    "\n",
    "print(A@w, ' <- Aw')"
   ]
  },
  {
   "cell_type": "code",
   "execution_count": null,
   "metadata": {
    "id": "DcuGzf1U2vLg"
   },
   "outputs": [],
   "source": [
    "print(A, ' <- A')\n",
    "print([10,100], ' <- u')\n",
    "\n",
    "print(A*[10,100], ' <- A*u')"
   ]
  },
  {
   "cell_type": "markdown",
   "metadata": {
    "id": "7EleWjGmS7M2"
   },
   "source": [
    "### Dot product"
   ]
  },
  {
   "cell_type": "code",
   "execution_count": null,
   "metadata": {
    "id": "gbtJMqm7S-RN"
   },
   "outputs": [],
   "source": [
    "u = np.array([3,2])\n",
    "\n",
    "v = np.array([10,100])\n",
    "\n",
    "print('u . v = ', u@v)\n",
    "print('u * v = ', u*v)"
   ]
  },
  {
   "cell_type": "markdown",
   "metadata": {
    "id": "EnCip_oGHEG0"
   },
   "source": [
    "### Matrix-matrix multiplication"
   ]
  },
  {
   "cell_type": "code",
   "execution_count": null,
   "metadata": {
    "id": "OZa_-eD5Jd7V"
   },
   "outputs": [],
   "source": [
    "A = np.array([[1,2],[3,4]])\n",
    "\n",
    "B = np.array([[5,6],[7,8]])\n",
    "\n",
    "print(A, ' <- A')\n",
    "\n",
    "print(B, ' <- B')\n",
    "\n",
    "print(A@B, ' <- AB')"
   ]
  },
  {
   "cell_type": "markdown",
   "metadata": {
    "id": "AB7C8wG5LqN-"
   },
   "source": [
    "### Tranpose and inverse\n"
   ]
  },
  {
   "cell_type": "code",
   "execution_count": null,
   "metadata": {
    "id": "AIBBcO_HLzAE"
   },
   "outputs": [],
   "source": [
    "A = np.array([[1,2,3],[4,5,6]])\n",
    "B = np.array([[2,4],[6,8]])\n",
    "\n",
    "#Tranpose\n",
    "C = A.T\n",
    "D = B.T\n",
    "\n",
    "#Inverse\n",
    "E = np.linalg.inv(A)\n",
    "F = np.linalg.inv(B)\n",
    "\n",
    "print(A, ' <- A')\n",
    "print(B, ' <- B')\n",
    "print(C, ' <- A^T')\n",
    "print(D, ' <- B^T')\n",
    "print(E, ' <- A^(-1)')\n",
    "print(F, ' <- B^(-1)')"
   ]
  },
  {
   "cell_type": "code",
   "execution_count": null,
   "metadata": {
    "id": "3lqlD0KgU6Hg"
   },
   "outputs": [],
   "source": [
    "print( 'I2 = ', B@F)"
   ]
  },
  {
   "cell_type": "markdown",
   "metadata": {
    "id": "gj3yIhtQKyFf"
   },
   "source": [
    "### Methods on different axes"
   ]
  },
  {
   "cell_type": "code",
   "execution_count": null,
   "metadata": {
    "id": "hPJVcqtzw8RA"
   },
   "outputs": [],
   "source": [
    "A = np.array([[1,3],[11,13]])\n",
    "\n",
    "print(A, ' <- A')\n",
    "\n",
    "print(A.mean(axis=0), ' <- mean (axis=0)')\n",
    "print(A.mean(axis=1), ' <- mean (axis=1)')\n",
    "\n",
    "print(A.std(axis=0), ' <- std (axis=0)')\n",
    "print(A.std(axis=1), ' <- std (axis=1)')\n",
    "\n",
    "#no axis\n",
    "print(A.mean())"
   ]
  },
  {
   "cell_type": "code",
   "execution_count": null,
   "metadata": {
    "id": "25nyOA1wLCf4"
   },
   "outputs": [],
   "source": [
    "import pandas as pd\n",
    "\n",
    "data = pd.DataFrame({\n",
    "    'feat 1' : [2,4,3,1],\n",
    "    'feat 2' : [4,1,2,5],\n",
    "    'feat 3' : [5,2,1,6]})\n",
    "\n",
    "data"
   ]
  },
  {
   "cell_type": "code",
   "execution_count": null,
   "metadata": {
    "id": "TWoz-qMICQsv"
   },
   "outputs": [],
   "source": [
    "X = data.values\n",
    "\n",
    "print(X)"
   ]
  },
  {
   "cell_type": "markdown",
   "metadata": {
    "id": "ZhMJJv8ajmCs"
   },
   "source": [
    "### End of tutorial"
   ]
  },
  {
   "cell_type": "code",
   "execution_count": null,
   "metadata": {
    "id": "W6BO5Vkvd0Gp"
   },
   "outputs": [],
   "source": [
    "from PIL import Image\n",
    "import matplotlib.pyplot as plt\n",
    "\n",
    "#download an image\n",
    "!wget -O image.png https://www.tensorflow.org/tutorials/images/classification_files/output_N1loMlbYHeiJ_0.png\n",
    "\n",
    "#load image and convert to numpy array\n",
    "img_file = Image.open(\"image.png\").convert('L')\n",
    "img = np.array(img_file.getdata(), dtype=np.uint8)\n",
    "img = np.resize(img, (img_file.size[1], img_file.size[0]))\n"
   ]
  },
  {
   "cell_type": "code",
   "execution_count": null,
   "metadata": {
    "id": "uSMlnJdyfKFA"
   },
   "outputs": [],
   "source": [
    "print(img.shape)\n",
    "\n",
    "plt.imshow(img, cmap='gray', vmin=0, vmax=255);"
   ]
  },
  {
   "cell_type": "code",
   "execution_count": null,
   "metadata": {
    "id": "j-lSuES37-5t"
   },
   "outputs": [],
   "source": [
    "img"
   ]
  },
  {
   "cell_type": "markdown",
   "metadata": {
    "id": "pp8J2lKI0Vea"
   },
   "source": [
    "### Exercise 1\n",
    "\n",
    "1. สมมติให้ $I$ เป็นรูปภาพ การปรับ contrast บน $I$ จะใช้สูตร\n",
    "$$ I' = \\text{Truncate}(F\\times(I-127.5)+127.5) $$\n",
    "โดยที่ \n",
    "* $I'$ เป็นรูปใหม่ที่ได้   \n",
    "* $F$ มีค่าระหว่าง $0$ กับ $1$  \n",
    "* $\\text{Truncate}(x)=0$ ถ้า $x<0$\n",
    "* $\\text{Truncate}(x)=255$ ถ้า $x>255$  \n",
    "จงเขียนฟังก์ชัน `contrast(img, F)` สำหรับการปรับ contrast ของรูป `img` ด้วยสูตรข้างบน โดยที่ $F$ มีค่าเท่ากับ `F`"
   ]
  },
  {
   "cell_type": "code",
   "execution_count": null,
   "metadata": {
    "id": "w3Q0ni4-_j26"
   },
   "outputs": [],
   "source": [
    "img.shape"
   ]
  },
  {
   "cell_type": "code",
   "execution_count": null,
   "metadata": {
    "id": "FjG2fyzWXqxU"
   },
   "outputs": [],
   "source": [
    "def contrast(img, F):\n",
    "  # img: the numpy array of an image\n",
    "  # out: contrast adjusted image with factor F"
   ]
  },
  {
   "cell_type": "code",
   "execution_count": null,
   "metadata": {
    "id": "RBntPCk6gW2y"
   },
   "outputs": [],
   "source": [
    "plt.imshow(contrast(img, 0.7), cmap='gray', vmin=0, vmax=255);"
   ]
  },
  {
   "cell_type": "code",
   "execution_count": null,
   "metadata": {
    "id": "8R4O1R_ah6yH"
   },
   "outputs": [],
   "source": [
    "plt.imshow(contrast(img, 0.3), cmap='gray', vmin=0, vmax=255);"
   ]
  },
  {
   "cell_type": "markdown",
   "metadata": {
    "id": "KtXmz3T1Xq4S"
   },
   "source": [
    "2. เขียนฟังก์ชัน `flip(img)` สำหรับพลิกรูป `img`ตามแกนตั้ง"
   ]
  },
  {
   "cell_type": "code",
   "execution_count": null,
   "metadata": {
    "id": "m0V7i0PVdwEW"
   },
   "outputs": [],
   "source": [
    "def flip(img):\n",
    "  # img: the numpy array of an image\n",
    "  # out: img flipped with respect to vertical axis\n"
   ]
  },
  {
   "cell_type": "code",
   "execution_count": null,
   "metadata": {
    "id": "53-Al_IsGNAR"
   },
   "outputs": [],
   "source": [
    "img[:,j] = x # change j-th column to vector x\n",
    "\n",
    "img[i,:] = x # change i-th column to vector x"
   ]
  },
  {
   "cell_type": "code",
   "execution_count": null,
   "metadata": {
    "id": "AMVNnn-Fi63r"
   },
   "outputs": [],
   "source": [
    "plt.imshow(flip(img), cmap='gray', vmin=0, vmax=255);"
   ]
  },
  {
   "cell_type": "markdown",
   "metadata": {
    "id": "3ov9FLdHifVO"
   },
   "source": [
    "3. เขียนฟังก์ชัน `rotate(img)` สำหรับการหมุน `img` ทวนเข็มไป 90 องศา"
   ]
  },
  {
   "cell_type": "code",
   "execution_count": null,
   "metadata": {
    "id": "FQcyEOtUjFpk"
   },
   "outputs": [],
   "source": [
    "def rotate(img):\n",
    "  # img: the numpy array of an image\n",
    "  # out: img rotated 90 degree counterclockwisely\n",
    "\n",
    "\n",
    "\n"
   ]
  },
  {
   "cell_type": "code",
   "execution_count": null,
   "metadata": {
    "id": "-bV1rz92i9K0"
   },
   "outputs": [],
   "source": [
    "plt.imshow(rotate(img), cmap='gray', vmin=0, vmax=255);"
   ]
  }
 ],
 "metadata": {
  "colab": {
   "collapsed_sections": [],
   "name": "229351-LAB02.ipynb",
   "provenance": [
    {
     "file_id": "1k58-rg4oQW3wpRV4o0QKkjNuoDH4G6JK",
     "timestamp": 1576730343500
    }
   ]
  },
  "kernelspec": {
   "display_name": "Python 3 (ipykernel)",
   "language": "python",
   "name": "python3"
  },
  "language_info": {
   "codemirror_mode": {
    "name": "ipython",
    "version": 3
   },
   "file_extension": ".py",
   "mimetype": "text/x-python",
   "name": "python",
   "nbconvert_exporter": "python",
   "pygments_lexer": "ipython3",
   "version": "3.10.12"
  }
 },
 "nbformat": 4,
 "nbformat_minor": 4
}
