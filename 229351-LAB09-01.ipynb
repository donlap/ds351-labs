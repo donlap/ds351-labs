{
  "cells": [
    {
      "cell_type": "markdown",
      "metadata": {
        "id": "rUWDxJYaXbGS"
      },
      "source": [
        "### ปฏิบัติการครั้งที่ 9 กระบวนวิชา 229351 Statistical Learning for Data Science\n",
        "\n",
        "คำชี้แจง\n",
        "\n",
        "1. ให้เริ่มทำปฏิบัติการจาก colab notebook ที่กำหนดให้ จากนั้นตั้งค่า share ให้เหมาะสม\n",
        "2. ส่ง link ใน Mango"
      ]
    },
    {
      "cell_type": "markdown",
      "metadata": {
        "id": "BFeBRlckOxSG"
      },
      "source": [
        "ดาวน์โหลดข้อมูลการขายรถยนต์ใน link ข้างล่างนี้  \n",
        "https://donlapark.pages.dev/229351/data/CarSales.csv  "
      ]
    },
    {
      "cell_type": "code",
      "execution_count": null,
      "metadata": {
        "id": "ntO6KNB7A24q"
      },
      "outputs": [],
      "source": [
        "!wget -O CarSales.csv https://donlapark.pages.dev/229351/data/CarSales.csv"
      ]
    },
    {
      "cell_type": "code",
      "execution_count": null,
      "metadata": {
        "id": "5Tebr3-dBKxj"
      },
      "outputs": [],
      "source": [
        "# import module ที่ต้องใช้\n",
        "import numpy as np\n",
        "import pandas as pd\n",
        "import matplotlib.pyplot as plt"
      ]
    },
    {
      "cell_type": "code",
      "execution_count": null,
      "metadata": {
        "id": "2SAbpyMIz7R8"
      },
      "outputs": [],
      "source": [
        "# ฟังก์ชันที่เปลี่ยน string ให้เป็น datetime\n",
        "#def parser(dates):\n",
        "#  return pd.to_datetime(dates, format='%Y-%m')\n",
        "\n",
        "# parse_dates ชื่อของคอลัมน์ที่จะเปลี่ยนให้เป็น datetime\n",
        "# index_col ชื่อของคอลัมน์ที่จะให้เป็น index\n",
        "# date_parser ฟังก์ชันที่เปลี่ยน string ให้เป็น datetime\n",
        "data = pd.read_csv(\n",
        "    'CarSales.csv',\n",
        "    parse_dates=['Month'],\n",
        "    index_col='Month',\n",
        "    #date_parser=parser  # if you want to use a parser function\n",
        ")\n",
        "\n",
        "print (data.head())"
      ]
    },
    {
      "cell_type": "code",
      "execution_count": null,
      "metadata": {
        "id": "6njJmujsAUNv"
      },
      "outputs": [],
      "source": [
        "y = data['Sales'].astype('float32')\n",
        "\n",
        "print(y)"
      ]
    },
    {
      "cell_type": "code",
      "execution_count": null,
      "metadata": {
        "id": "77iM0cykMjCb"
      },
      "outputs": [],
      "source": [
        "plt.figure(figsize=(12,6))\n",
        "y.plot();"
      ]
    },
    {
      "cell_type": "code",
      "execution_count": null,
      "metadata": {
        "id": "aJqDe3HQQCHN"
      },
      "outputs": [],
      "source": [
        "def rmse(y_true,y_pred):\n",
        "  # Inputs\n",
        "  # y_true: actual value, y_pred: predicted values\n",
        "  # Output: RMSE between y_true and y_pred\n",
        "  return np.sqrt(np.mean(np.square(y_true-y_pred)))"
      ]
    },
    {
      "cell_type": "markdown",
      "metadata": {
        "id": "CePUIQL7ujg9"
      },
      "source": [
        "# Train-Test split"
      ]
    },
    {
      "cell_type": "code",
      "execution_count": null,
      "metadata": {
        "id": "awvDOk0RUb0Q"
      },
      "outputs": [],
      "source": [
        "train = y[:-12]\n",
        "test = y[-12:]\n",
        "\n",
        "print(test)"
      ]
    },
    {
      "cell_type": "markdown",
      "metadata": {
        "id": "sSV25L78c4KD"
      },
      "source": [
        "## Test stationarity\n",
        "\n",
        "### KPSS\n",
        "- $H_0$: data is stationary\n",
        "- $H_1$: data is **not** stationary\n",
        "\n",
        "\n",
        "### ADF\n",
        "- $H_0$: data is **not** stationary\n",
        "- $H_1$: data is stationary\n"
      ]
    },
    {
      "cell_type": "code",
      "execution_count": null,
      "metadata": {
        "id": "qrM69mCiTFrC"
      },
      "outputs": [],
      "source": [
        "from statsmodels.tsa.stattools import adfuller, kpss\n",
        "\n",
        "def KPSStest(timeseries):\n",
        "  kpsstest = kpss(timeseries)\n",
        "  print('KPSS test')\n",
        "  print('Test Statistic: ',kpsstest[0])\n",
        "  print('p-value: ',kpsstest[1])\n",
        "  print('Number of Observations Used: ',kpsstest[2])\n",
        "  print('Critical Values: ',kpsstest[3])\n",
        "\n",
        "def ADFtest(timeseries):\n",
        "  adftest = adfuller(timeseries)\n",
        "  print('ADF test')\n",
        "  print('Test Statistic: ',adftest[0])\n",
        "  print('p-value: ',adftest[1])\n",
        "  print('#Lags Used: ',adftest[2])\n",
        "  print('Number of Observations Used: ',adftest[3])\n",
        "  print('Critical Values: ',adftest[4])"
      ]
    },
    {
      "cell_type": "code",
      "execution_count": null,
      "metadata": {
        "id": "-wKglSLaTajp"
      },
      "outputs": [],
      "source": [
        "KPSStest(y)\n",
        "ADFtest(y)"
      ]
    },
    {
      "cell_type": "code",
      "source": [
        "print(y)\n",
        "print(y.shift())"
      ],
      "metadata": {
        "id": "NnPA7_ayeo9s"
      },
      "execution_count": null,
      "outputs": []
    },
    {
      "cell_type": "code",
      "execution_count": null,
      "metadata": {
        "id": "b3JFOTHHTMRu"
      },
      "outputs": [],
      "source": [
        "y_diff = y-y.shift()\n",
        "y_diff.dropna(inplace=True)\n",
        "\n",
        "KPSStest(y_diff)\n",
        "ADFtest(y_diff)"
      ]
    },
    {
      "cell_type": "markdown",
      "metadata": {
        "id": "iORnr4Hlu1VD"
      },
      "source": [
        "# ARIMA($p,d,q$)"
      ]
    },
    {
      "cell_type": "markdown",
      "metadata": {
        "id": "c5S9OYfnt_ep"
      },
      "source": [
        "ลองพล็อต ACF และ PACF ของ time series **ที่ผ่าน difference แล้ว**\n",
        "\n",
        "1. ถ้า ACF ลดลงไปเรื่อยๆ และ PACF หายไปหลังจาก lag ใด lag หนึ่ง แสดงว่าค่าของ lag นั้นเป็นค่าอันดับ AR (นั่นคือค่า $p$) ที่เหมาะสม\n",
        "2. ถ้า PACF ลดลงไปเรื่อยๆ และ ACF หายไปหลังจาก lag ใด lag หนึ่ง แสดงว่าค่าของ lag นั้นเป็นค่าอันดับ MA (นั่นคือค่า $q$) ที่เหมาะสม"
      ]
    },
    {
      "cell_type": "code",
      "execution_count": null,
      "metadata": {
        "id": "yyxg_HLE5ZZW"
      },
      "outputs": [],
      "source": [
        "from statsmodels.graphics.tsaplots import plot_acf, plot_pacf\n",
        "\n",
        "fig, ax = plt.subplots(2,1,figsize=(15, 10))\n",
        "\n",
        "plot_acf(y_diff, lags=20, ax=ax[0]);\n",
        "ax[0].axhline(y=-1.96/(len(y)-1)**.5, linestyle = '--')\n",
        "ax[0].axhline(y=1.96/(len(y)-1)**.5, linestyle = '--')\n",
        "\n",
        "plot_pacf(y_diff, lags=20, ax=ax[1]);\n",
        "ax[1].axhline(y=-1.96/(len(y)-1)**.5, linestyle = '--')\n",
        "ax[1].axhline(y=1.96/(len(y)-1)**.5, linestyle = '--')"
      ]
    },
    {
      "cell_type": "code",
      "execution_count": null,
      "metadata": {
        "id": "fKT4iI1qVKWU"
      },
      "outputs": [],
      "source": [
        "train"
      ]
    },
    {
      "cell_type": "code",
      "execution_count": null,
      "metadata": {
        "id": "CA4lR3m3X73d"
      },
      "outputs": [],
      "source": [
        "from statsmodels.tsa.arima.model import ARIMA\n",
        "\n",
        "arima = ARIMA(train, order=(0,1,3))\n"
      ]
    },
    {
      "cell_type": "code",
      "execution_count": null,
      "metadata": {
        "id": "JG-r3H9VRzlH"
      },
      "outputs": [],
      "source": [
        "arima_fit = arima.fit()\n",
        "yhat = arima_fit.predict('1968-01-01', '1968-12-01')"
      ]
    },
    {
      "cell_type": "code",
      "execution_count": null,
      "metadata": {
        "id": "3s9Sl1aRjcGl"
      },
      "outputs": [],
      "source": [
        "plt.figure(figsize=(12,6))\n",
        "y.plot()\n",
        "yhat.plot();"
      ]
    },
    {
      "cell_type": "code",
      "execution_count": null,
      "metadata": {
        "id": "3xYkUly2j-_d"
      },
      "outputs": [],
      "source": [
        "from statsmodels.tsa.statespace.sarimax import SARIMAX\n",
        "\n",
        "sarima = SARIMAX(train, order=(0, 1, 3), seasonal_order=(1, 1, 1, 12))\n",
        "\n",
        "sarima_fit = sarima.fit(optimized=True)\n",
        "yhat = sarima_fit.predict('1968-01-01', '1968-12-01')\n",
        "\n",
        "plt.figure(figsize=(12,6))\n",
        "y.plot()\n",
        "yhat.plot();"
      ]
    },
    {
      "cell_type": "code",
      "execution_count": null,
      "metadata": {
        "id": "_hSLgftVkfqV"
      },
      "outputs": [],
      "source": [
        "print('RMSE:',rmse(test,yhat))"
      ]
    },
    {
      "cell_type": "markdown",
      "metadata": {
        "id": "v9VA-hRhu8lR"
      },
      "source": [
        "### ใช้ `auto_arima` จาก `pmdarima` เพื่อหา order ที่เหมาะสม"
      ]
    },
    {
      "cell_type": "code",
      "execution_count": null,
      "metadata": {
        "id": "bIl-T_8Tk33i"
      },
      "outputs": [],
      "source": [
        "!pip3 install pmdarima"
      ]
    },
    {
      "cell_type": "code",
      "execution_count": null,
      "metadata": {
        "id": "gZwEPEzRnUHi"
      },
      "outputs": [],
      "source": [
        "import pmdarima as pm\n",
        "\n",
        "auto_fit = pm.auto_arima(train, start_p=0, start_q=0, max_p=3, max_q=3, d=0,\n",
        "                             seasonal=True, m=12, start_P=0, start_Q=0, D=0,\n",
        "                             information_criterion = 'aicc', # choose model with the lowest corrected AIC\n",
        "                             trace = True,\n",
        "                             error_action='ignore',  # don't want to know if an order does not work\n",
        "                             suppress_warnings=True) # don't want convergence warnings"
      ]
    },
    {
      "cell_type": "code",
      "execution_count": null,
      "metadata": {
        "id": "lMpYLxsMltls"
      },
      "outputs": [],
      "source": [
        "auto_fit.summary()"
      ]
    },
    {
      "cell_type": "code",
      "execution_count": null,
      "metadata": {
        "id": "NYkzShMenJAO"
      },
      "outputs": [],
      "source": [
        "predictions = auto_fit.predict(12)\n",
        "yhat = pd.Series(predictions,\n",
        "                    index=test.index)\n",
        "\n",
        "plt.figure(figsize=(12,6))\n",
        "ax = y.plot()\n",
        "yhat.plot(ax=ax);"
      ]
    },
    {
      "cell_type": "code",
      "execution_count": null,
      "metadata": {
        "id": "69GhXMFipr1P"
      },
      "outputs": [],
      "source": [
        "print('RMSE:',rmse(test,yhat))"
      ]
    },
    {
      "cell_type": "code",
      "execution_count": null,
      "metadata": {
        "id": "k5VsW2VYghOE"
      },
      "outputs": [],
      "source": []
    }
  ],
  "metadata": {
    "colab": {
      "name": "229351-LAB11-01.ipynb",
      "provenance": []
    },
    "kernelspec": {
      "display_name": "Python 3 (ipykernel)",
      "language": "python",
      "name": "python3"
    },
    "language_info": {
      "codemirror_mode": {
        "name": "ipython",
        "version": 3
      },
      "file_extension": ".py",
      "mimetype": "text/x-python",
      "name": "python",
      "nbconvert_exporter": "python",
      "pygments_lexer": "ipython3",
      "version": "3.10.12"
    }
  },
  "nbformat": 4,
  "nbformat_minor": 0
}