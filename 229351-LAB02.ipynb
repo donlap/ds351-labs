{
  "cells": [
    {
      "cell_type": "markdown",
      "metadata": {
        "id": "rUWDxJYaXbGS"
      },
      "source": [
        "ปฏิบัติการครั้งที่ 2 กระบวนวิชา 229351 Statistical Learning for Data Science\n",
        "\n",
        "คำชี้แจง\n",
        "\n",
        "1. ทำ exercise\n",
        "2. save ใน [github](https://www.github.com)\n",
        "3. ส่ง github link ใน Mango"
      ]
    },
    {
      "cell_type": "markdown",
      "source": [
        "[Numpy User Guide](https://numpy.org/doc/stable/user/index.html)"
      ],
      "metadata": {
        "id": "tdhSFe-m6LMX"
      }
    },
    {
      "cell_type": "markdown",
      "source": [
        "Note:\n",
        "1. Press `Shift` + `Tab` to run code block\n",
        "2. Highlight code and press `Ctrl` + `/` to comment the code"
      ],
      "metadata": {
        "id": "Z-i8rpNk7mBd"
      }
    },
    {
      "cell_type": "code",
      "execution_count": null,
      "metadata": {
        "id": "W4mkSzTBalJi"
      },
      "outputs": [],
      "source": [
        "import numpy as np"
      ]
    },
    {
      "cell_type": "code",
      "source": [
        "# ในการสร้างเวกเตอร์นั้นจะใช้ list หรือ numpy array ก็ได้\n",
        "\n"
      ],
      "metadata": {
        "id": "C2CM4uZ82IvY"
      },
      "execution_count": null,
      "outputs": []
    },
    {
      "cell_type": "code",
      "execution_count": null,
      "metadata": {
        "id": "XE7qG2DhLt1V"
      },
      "outputs": [],
      "source": [
        "# number of elements in a vector (shape of a vector)\n",
        "\n",
        "\n"
      ]
    },
    {
      "cell_type": "code",
      "execution_count": null,
      "metadata": {
        "id": "7TWReO68LYTO"
      },
      "outputs": [],
      "source": [
        "# row vector\n",
        "\n",
        "\n",
        "\n",
        "# column vector\n",
        "\n"
      ]
    },
    {
      "cell_type": "code",
      "execution_count": null,
      "metadata": {
        "id": "NZa2EvC3MQ8w"
      },
      "outputs": [],
      "source": [
        "# print the shapes\n",
        "\n",
        "\n"
      ]
    },
    {
      "cell_type": "code",
      "source": [
        "# Example of a matrix\n",
        "\n",
        "\n"
      ],
      "metadata": {
        "id": "kN_FYYd32QqY"
      },
      "execution_count": null,
      "outputs": []
    },
    {
      "cell_type": "code",
      "source": [
        "# Print shape\n",
        "\n",
        "\n"
      ],
      "metadata": {
        "id": "VAP19d5W2TEm"
      },
      "execution_count": null,
      "outputs": []
    },
    {
      "cell_type": "markdown",
      "metadata": {
        "id": "qu9VCxBuFs62"
      },
      "source": [
        "### Indexing"
      ]
    },
    {
      "cell_type": "code",
      "execution_count": null,
      "metadata": {
        "id": "l7Qb9bC6PckH"
      },
      "outputs": [],
      "source": [
        "A = np.array([[1,2,3,4],[5,6,7,8],[9,10,11,12]])\n",
        "\n"
      ]
    },
    {
      "cell_type": "markdown",
      "source": [
        "### Changing elements"
      ],
      "metadata": {
        "id": "kiILpNpk4HHZ"
      }
    },
    {
      "cell_type": "code",
      "execution_count": null,
      "metadata": {
        "id": "ZRzv6sZ7527z"
      },
      "outputs": [],
      "source": [
        "# Changing a single element\n",
        "A = np.array([[1,2,3,4],[5,6,7,8],[9,10,11,12]])\n",
        "\n"
      ]
    },
    {
      "cell_type": "code",
      "execution_count": null,
      "metadata": {
        "id": "Lfvam3jyJsv5"
      },
      "outputs": [],
      "source": [
        "# Changing a row or column\n",
        "A = np.array([[1,2,3,4],[5,6,7,8],[9,10,11,12]])\n",
        "u = [7,7,7]\n",
        "v = [3,3,3,3]\n",
        "\n"
      ]
    },
    {
      "cell_type": "markdown",
      "source": [
        "### Reverse the order of elements"
      ],
      "metadata": {
        "id": "Wfq8v0Ut7UBZ"
      }
    },
    {
      "cell_type": "code",
      "source": [
        "u = [1, 2, 3, 4]\n",
        "\n"
      ],
      "metadata": {
        "id": "T1YSEhXn7RTG"
      },
      "execution_count": null,
      "outputs": []
    },
    {
      "cell_type": "code",
      "source": [
        "A = np.array([[1,2,3,4],[5,6,7,8],[9,10,11,12]])\n",
        "\n"
      ],
      "metadata": {
        "id": "fLuTkR0X7Zkw"
      },
      "execution_count": null,
      "outputs": []
    },
    {
      "cell_type": "markdown",
      "metadata": {
        "id": "0_N4lVNaGQGJ"
      },
      "source": [
        "### Basic operations between a matrix and a number"
      ]
    },
    {
      "cell_type": "code",
      "execution_count": null,
      "metadata": {
        "id": "jPHnZVNOsTnP"
      },
      "outputs": [],
      "source": [
        "A = np.array([[1,2],[3,4]])\n",
        "\n"
      ]
    },
    {
      "cell_type": "markdown",
      "metadata": {
        "id": "oQ6H71EtGtiT"
      },
      "source": [
        "### Operations between a matrix and a vector"
      ]
    },
    {
      "cell_type": "code",
      "execution_count": null,
      "metadata": {
        "id": "9ZyADBep0b48"
      },
      "outputs": [],
      "source": [
        "A = np.array([[1,1,1,1],[1,1,1,1],[1,1,1,1]]) # (3,4) matrix\n",
        "u = [10,20,30,40] # (4,) list\n",
        "v = np.array([[100],[200],[300],[400]]) # (4,1) array\n",
        "w = [10, 20, 30]\n",
        "\n",
        "\n",
        "\n"
      ]
    },
    {
      "cell_type": "markdown",
      "metadata": {
        "id": "7XqJ6DaRHzhv"
      },
      "source": [
        "### Elementwise matrix-matrix multiplication/division"
      ]
    },
    {
      "cell_type": "code",
      "execution_count": null,
      "metadata": {
        "id": "FmVk9HDZHqdg"
      },
      "outputs": [],
      "source": [
        "A = np.array([[1,2],[3,4]])\n",
        "\n",
        "B = np.array([[10,100],[1000,10000]])\n",
        "\n",
        "\n"
      ]
    },
    {
      "cell_type": "markdown",
      "metadata": {
        "id": "7EleWjGmS7M2"
      },
      "source": [
        "### Dot product"
      ]
    },
    {
      "cell_type": "code",
      "execution_count": null,
      "metadata": {
        "id": "gbtJMqm7S-RN"
      },
      "outputs": [],
      "source": [
        "u = np.array([3,2])\n",
        "\n",
        "v = np.array([10,100])\n",
        "\n"
      ]
    },
    {
      "cell_type": "markdown",
      "source": [
        "### Matric-vector multiplication"
      ],
      "metadata": {
        "id": "Ucu5m1576cr_"
      }
    },
    {
      "cell_type": "code",
      "source": [
        "A = np.array([[1,1,0,0],[0,1,0,1],[0,0,1,1]]) # (3,4) matrix\n",
        "u = [10,20,30,40] # (4,) list\n",
        "v = np.array([[10],[20],[30],[40]]) # (4,1) array\n",
        "\n"
      ],
      "metadata": {
        "id": "sx8m03C_6fCd"
      },
      "execution_count": null,
      "outputs": []
    },
    {
      "cell_type": "markdown",
      "metadata": {
        "id": "EnCip_oGHEG0"
      },
      "source": [
        "### Matrix-matrix multiplication"
      ]
    },
    {
      "cell_type": "code",
      "execution_count": null,
      "metadata": {
        "id": "OZa_-eD5Jd7V"
      },
      "outputs": [],
      "source": [
        "A = np.array([[1,2],[3,4]])\n",
        "\n",
        "B = np.array([[5,6],[7,8]])\n",
        "\n"
      ]
    },
    {
      "cell_type": "markdown",
      "metadata": {
        "id": "AB7C8wG5LqN-"
      },
      "source": [
        "### Tranpose"
      ]
    },
    {
      "cell_type": "code",
      "execution_count": null,
      "metadata": {
        "id": "AIBBcO_HLzAE"
      },
      "outputs": [],
      "source": [
        "A = np.array([[1,2,3],[4,5,6]])\n",
        "\n",
        "\n"
      ]
    },
    {
      "cell_type": "markdown",
      "metadata": {
        "id": "gj3yIhtQKyFf"
      },
      "source": [
        "### Methods on different axes"
      ]
    },
    {
      "cell_type": "markdown",
      "source": [
        "<img src=\"https://i.sstatic.net/M1K5N.png\" alt=\"numpy-axes\" width=\"600\"/>"
      ],
      "metadata": {
        "id": "lblbz9rz5gnJ"
      }
    },
    {
      "cell_type": "code",
      "execution_count": null,
      "metadata": {
        "id": "hPJVcqtzw8RA"
      },
      "outputs": [],
      "source": [
        "A = np.array([[1, 3, 5], [11, 13, 15]])\n",
        "\n",
        "# mean\n",
        "\n",
        "\n",
        "# standard deviation\n",
        "\n",
        "\n"
      ]
    },
    {
      "cell_type": "markdown",
      "source": [
        "### Pandas dataframe to Numpy array"
      ],
      "metadata": {
        "id": "XOcOECB53R4I"
      }
    },
    {
      "cell_type": "code",
      "execution_count": null,
      "metadata": {
        "id": "25nyOA1wLCf4"
      },
      "outputs": [],
      "source": [
        "import pandas as pd\n",
        "\n",
        "data = pd.DataFrame({\n",
        "    'feat 1' : [2,4,3,1],\n",
        "    'feat 2' : [4,1,2,5],\n",
        "    'feat 3' : [5,2,1,6]})\n",
        "\n",
        "data"
      ]
    },
    {
      "cell_type": "code",
      "execution_count": null,
      "metadata": {
        "id": "TWoz-qMICQsv"
      },
      "outputs": [],
      "source": [
        "# dataframe to array\n",
        "\n",
        "\n"
      ]
    },
    {
      "cell_type": "markdown",
      "metadata": {
        "id": "ZhMJJv8ajmCs"
      },
      "source": [
        "### End of tutorial"
      ]
    },
    {
      "cell_type": "code",
      "execution_count": null,
      "metadata": {
        "id": "W6BO5Vkvd0Gp"
      },
      "outputs": [],
      "source": [
        "from PIL import Image\n",
        "import matplotlib.pyplot as plt\n",
        "\n",
        "#download an image\n",
        "!wget -O image.png https://www.tensorflow.org/static/tutorials/images/classification_files/output_N1loMlbYHeiJ_0.png?hl=ja\n",
        "\n",
        "#load image and convert to numpy array\n",
        "img_file = Image.open(\"image.png\").convert('L')\n",
        "img = np.array(img_file.getdata(), dtype=np.uint8)\n",
        "img = np.resize(img, (img_file.size[1], img_file.size[0]))\n"
      ]
    },
    {
      "cell_type": "code",
      "execution_count": null,
      "metadata": {
        "id": "uSMlnJdyfKFA"
      },
      "outputs": [],
      "source": [
        "print(img.shape)\n",
        "\n",
        "plt.imshow(img, cmap='gray', vmin=0, vmax=255);"
      ]
    },
    {
      "cell_type": "code",
      "execution_count": null,
      "metadata": {
        "id": "j-lSuES37-5t"
      },
      "outputs": [],
      "source": [
        "img"
      ]
    },
    {
      "cell_type": "markdown",
      "metadata": {
        "id": "pp8J2lKI0Vea"
      },
      "source": [
        "### Exercise 1\n",
        "\n",
        "1. สมมติให้ $I$ เป็นรูปภาพ การปรับ contrast ให้อยู่ในระดับที่ $F$ ($F=0$ รูปจะเป็นสีเทา $F=1$ จะได้รูปเดิม) ใช้สูตร\n",
        "$$ I' = \\text{Truncate}(F\\times(I-127.5)+127.5) $$\n",
        "โดยที่\n",
        "* $I'$ เป็นรูปใหม่ที่ได้   \n",
        "* $F$ มีค่าระหว่าง $0$ กับ $1$  \n",
        "* $\\text{Truncate}(x)=0$ ถ้า $x<0$\n",
        "* $\\text{Truncate}(x)=255$ ถ้า $x>255$  \n",
        "จงเขียนฟังก์ชัน `contrast(img, F)` สำหรับการปรับ contrast ของรูป `img` ด้วยสูตรข้างบน โดยที่ $F$ มีค่าเท่ากับ `F`"
      ]
    },
    {
      "cell_type": "code",
      "execution_count": null,
      "metadata": {
        "id": "w3Q0ni4-_j26"
      },
      "outputs": [],
      "source": [
        "img.shape"
      ]
    },
    {
      "cell_type": "code",
      "execution_count": null,
      "metadata": {
        "id": "FjG2fyzWXqxU"
      },
      "outputs": [],
      "source": [
        "def contrast(img, F):\n",
        "  # img: the numpy array of an image\n",
        "  # out: contrast adjusted image with factor F"
      ]
    },
    {
      "cell_type": "markdown",
      "source": [
        "ทดสอบ function โดยการรันโค้ดข้างล่างนี้"
      ],
      "metadata": {
        "id": "PD_3Pe8m3kfm"
      }
    },
    {
      "cell_type": "code",
      "execution_count": null,
      "metadata": {
        "id": "RBntPCk6gW2y"
      },
      "outputs": [],
      "source": [
        "plt.imshow(contrast(img, 0.7), cmap='gray', vmin=0, vmax=255);"
      ]
    },
    {
      "cell_type": "code",
      "execution_count": null,
      "metadata": {
        "id": "8R4O1R_ah6yH"
      },
      "outputs": [],
      "source": [
        "plt.imshow(contrast(img, 0.3), cmap='gray', vmin=0, vmax=255);"
      ]
    },
    {
      "cell_type": "markdown",
      "metadata": {
        "id": "KtXmz3T1Xq4S"
      },
      "source": [
        "2. เขียนฟังก์ชัน `flip(img)` สำหรับพลิกรูป `img`ตามแกนตั้ง"
      ]
    },
    {
      "cell_type": "code",
      "execution_count": null,
      "metadata": {
        "id": "m0V7i0PVdwEW"
      },
      "outputs": [],
      "source": [
        "def flip(img):\n",
        "  # img: the numpy array of an image\n",
        "  # out: img flipped with respect to vertical axis\n"
      ]
    },
    {
      "cell_type": "markdown",
      "source": [
        "ทดสอบ function โดยการรันโค้ดข้างล่างนี้"
      ],
      "metadata": {
        "id": "RRllft-43qJ3"
      }
    },
    {
      "cell_type": "code",
      "execution_count": null,
      "metadata": {
        "id": "AMVNnn-Fi63r"
      },
      "outputs": [],
      "source": [
        "plt.imshow(flip(img), cmap='gray', vmin=0, vmax=255);"
      ]
    },
    {
      "cell_type": "markdown",
      "metadata": {
        "id": "3ov9FLdHifVO"
      },
      "source": [
        "3. เขียนฟังก์ชัน `rotate(img)` สำหรับการหมุน `img` ทวนเข็มไป 90 องศา"
      ]
    },
    {
      "cell_type": "code",
      "execution_count": null,
      "metadata": {
        "id": "FQcyEOtUjFpk"
      },
      "outputs": [],
      "source": [
        "def rotate(img):\n",
        "  # img: the numpy array of an image\n",
        "  # out: img rotated 90 degree counterclockwisely\n",
        "\n",
        "\n",
        "\n"
      ]
    },
    {
      "cell_type": "markdown",
      "source": [
        "ทดสอบ function โดยการรันโค้ดข้างล่างนี้"
      ],
      "metadata": {
        "id": "vb1KGLVX3sQG"
      }
    },
    {
      "cell_type": "code",
      "execution_count": null,
      "metadata": {
        "id": "-bV1rz92i9K0"
      },
      "outputs": [],
      "source": [
        "plt.imshow(rotate(img), cmap='gray', vmin=0, vmax=255);"
      ]
    }
  ],
  "metadata": {
    "colab": {
      "name": "229351-LAB02.ipynb",
      "provenance": []
    },
    "kernelspec": {
      "display_name": "Python 3 (ipykernel)",
      "language": "python",
      "name": "python3"
    },
    "language_info": {
      "codemirror_mode": {
        "name": "ipython",
        "version": 3
      },
      "file_extension": ".py",
      "mimetype": "text/x-python",
      "name": "python",
      "nbconvert_exporter": "python",
      "pygments_lexer": "ipython3",
      "version": "3.10.12"
    }
  },
  "nbformat": 4,
  "nbformat_minor": 0
}