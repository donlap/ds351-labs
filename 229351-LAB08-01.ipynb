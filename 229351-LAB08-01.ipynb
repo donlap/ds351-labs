{
 "cells": [
  {
   "cell_type": "markdown",
   "metadata": {
    "id": "rUWDxJYaXbGS"
   },
   "source": [
    "ปฏิบัติการครั้งที่ 8 กระบวนวิชา 229351 Statistical Learning for Data Science\n",
    "\n",
    "คำชี้แจง\n",
    "\n",
    "1. ให้เริ่มทำปฏิบัติการจาก colab notebook ที่กำหนดให้ จากนั้นบันทึกไว้เป็นไฟล์ *.pdf\n",
    "2. ตั้งค่าใน Colab ให้สามารถ share ไฟล์ได้\n",
    "3. ส่งใน Mango"
   ]
  },
  {
   "cell_type": "markdown",
   "metadata": {
    "id": "BFeBRlckOxSG"
   },
   "source": [
    "ดาวน์โหลดข้อมูลการขายรถยนต์ใน link ข้างล่างนี้  \n",
    "https://donlapark.pages.dev/229351/data/CarSales.csv  "
   ]
  },
  {
   "cell_type": "code",
   "execution_count": null,
   "metadata": {
    "id": "ntO6KNB7A24q"
   },
   "outputs": [],
   "source": [
    "!wget -O CarSales.csv https://donlapark.pages.dev/229351/data/CarSales.csv  "
   ]
  },
  {
   "cell_type": "code",
   "execution_count": null,
   "metadata": {
    "id": "5Tebr3-dBKxj"
   },
   "outputs": [],
   "source": [
    "# import module ที่ต้องใช้\n",
    "import numpy as np\n",
    "import pandas as pd\n",
    "import matplotlib.pyplot as plt\n",
    "from datetime import datetime"
   ]
  },
  {
   "cell_type": "code",
   "execution_count": null,
   "metadata": {
    "id": "2SAbpyMIz7R8"
   },
   "outputs": [],
   "source": [
    "# ฟังก์ชันที่เปลี่ยน string ให้เป็น datetime\n",
    "def parser(dates):\n",
    "  return datetime.strptime(dates, '%Y-%m')\n",
    "\n",
    "# parse_dates ชื่อของคอลัมน์ที่จะเปลี่ยนให้เป็น datetime\n",
    "# index_col ชื่อของคอลัมน์ที่จะให้เป็น index\n",
    "# date_parser ฟังก์ชันที่เปลี่ยน string ให้เป็น datetime\n",
    "data = pd.read_csv('CarSales.csv', parse_dates=['Month'], \n",
    "                                        index_col='Month',\n",
    "                                        date_parser=parser)\n",
    "\n",
    "print (data.tail())"
   ]
  },
  {
   "cell_type": "markdown",
   "metadata": {},
   "source": [
    "### Check if the inferred frequency is correct\n",
    "\n",
    "[list of time series frequencies](https://pandas.pydata.org/pandas-docs/stable/user_guide/timeseries.html#offset-aliases)"
   ]
  },
  {
   "cell_type": "code",
   "execution_count": null,
   "metadata": {},
   "outputs": [],
   "source": [
    "print(data.index.inferred_freq)"
   ]
  },
  {
   "cell_type": "code",
   "execution_count": null,
   "metadata": {
    "id": "6njJmujsAUNv"
   },
   "outputs": [],
   "source": [
    "y = data['Sales'].astype('float32')\n",
    "\n",
    "print(y)"
   ]
  },
  {
   "cell_type": "code",
   "execution_count": null,
   "metadata": {
    "id": "77iM0cykMjCb"
   },
   "outputs": [],
   "source": [
    "plt.figure(figsize=(12,6))\n",
    "y.plot();"
   ]
  },
  {
   "cell_type": "code",
   "execution_count": null,
   "metadata": {
    "id": "aJqDe3HQQCHN"
   },
   "outputs": [],
   "source": [
    "def rmse(y_true,y_pred):\n",
    "  # Inputs\n",
    "  # y_true: actual value, y_pred: predicted values\n",
    "  # Output: RMSE between y_true and y_pred\n",
    "  return np.sqrt(np.mean(np.square(y_true-y_pred)))"
   ]
  },
  {
   "cell_type": "markdown",
   "metadata": {
    "id": "CePUIQL7ujg9"
   },
   "source": [
    "# Train-Test split"
   ]
  },
  {
   "cell_type": "code",
   "execution_count": null,
   "metadata": {
    "id": "awvDOk0RUb0Q"
   },
   "outputs": [],
   "source": [
    "train = y[:-12]\n",
    "test = y[-12:]\n",
    "\n",
    "print(test)"
   ]
  },
  {
   "cell_type": "markdown",
   "metadata": {
    "id": "0eDB6wtLMDDC"
   },
   "source": [
    "## Holt Winter’s Exponential Smoothing\n",
    "\n",
    "`ExponentialSmoothing`\n",
    "\n",
    "### trend : {“add”, “mul”, “additive”, “multiplicative”, None}, optional\n",
    "\n",
    "    Type of trend component.\n",
    "\n",
    "### damped : bool, optional\n",
    "\n",
    "    Should the trend component be damped.\n",
    "\n",
    "### seasonal : {“add”, “mul”, None}, optional\n",
    "\n",
    "    Type of seasonal component.\n",
    "\n",
    "### seasonal_periods : int, optional\n",
    "\n",
    "    The number of periods in a complete seasonal cycle, e.g., 4 for quarterly data or 7 for daily data with a weekly cycle.\n"
   ]
  },
  {
   "cell_type": "code",
   "execution_count": null,
   "metadata": {
    "id": "vCl5Lve9au3u"
   },
   "outputs": [],
   "source": [
    "from statsmodels.tsa.holtwinters import ExponentialSmoothing\n",
    "\n",
    "es = ExponentialSmoothing(train, trend = 'add', damped=True, seasonal=None, seasonal_periods=12)\n",
    "es_fit = es.fit(optimized=True)\n",
    "yhat = es_fit.predict('1968-01-01', '1968-12-01')"
   ]
  },
  {
   "cell_type": "code",
   "execution_count": null,
   "metadata": {},
   "outputs": [],
   "source": [
    "print('RMSE:',rmse(test,yhat))"
   ]
  },
  {
   "cell_type": "code",
   "execution_count": null,
   "metadata": {
    "id": "E9DaTfbZPEYs"
   },
   "outputs": [],
   "source": [
    "plt.figure(figsize=(12,6))\n",
    "y.plot()\n",
    "yhat.plot();"
   ]
  },
  {
   "cell_type": "code",
   "execution_count": null,
   "metadata": {
    "id": "G8-nqzoEPj_j"
   },
   "outputs": [],
   "source": [
    "es = ExponentialSmoothing(train, trend = 'add', damped=True, seasonal='mul', seasonal_periods=12)\n",
    "es_fit = es.fit(optimized=True)\n",
    "yhat = es_fit.predict('1968-01-01', '1968-12-01')\n",
    "\n",
    "print('RMSE:',rmse(test,yhat))"
   ]
  },
  {
   "cell_type": "markdown",
   "metadata": {
    "id": "B8gOQaUrPiUj"
   },
   "source": [
    "Check the parameters of the model."
   ]
  },
  {
   "cell_type": "code",
   "execution_count": null,
   "metadata": {
    "id": "YUUs-dWBOqE0"
   },
   "outputs": [],
   "source": [
    "#list of parameters\n",
    "es_fit.params"
   ]
  },
  {
   "cell_type": "code",
   "execution_count": null,
   "metadata": {},
   "outputs": [],
   "source": []
  }
 ],
 "metadata": {
  "colab": {
   "collapsed_sections": [],
   "name": "229351-LAB10-01.ipynb",
   "provenance": [
    {
     "file_id": "1k58-rg4oQW3wpRV4o0QKkjNuoDH4G6JK",
     "timestamp": 1576730343500
    }
   ]
  },
  "kernelspec": {
   "display_name": "Python 3 (ipykernel)",
   "language": "python",
   "name": "python3"
  },
  "language_info": {
   "codemirror_mode": {
    "name": "ipython",
    "version": 3
   },
   "file_extension": ".py",
   "mimetype": "text/x-python",
   "name": "python",
   "nbconvert_exporter": "python",
   "pygments_lexer": "ipython3",
   "version": "3.10.12"
  }
 },
 "nbformat": 4,
 "nbformat_minor": 4
}
