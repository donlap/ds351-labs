{
  "cells": [
    {
      "cell_type": "markdown",
      "metadata": {
        "id": "view-in-github",
        "colab_type": "text"
      },
      "source": [
        "<a href=\"https://colab.research.google.com/github/donlap/ds351-labs/blob/main/229351-LAB01.ipynb\" target=\"_parent\"><img src=\"https://colab.research.google.com/assets/colab-badge.svg\" alt=\"Open In Colab\"/></a>"
      ]
    },
    {
      "cell_type": "markdown",
      "metadata": {
        "id": "rUWDxJYaXbGS"
      },
      "source": [
        "ปฏิบัติการครั้งที่ 1 กระบวนวิชา 229351 Statistical Learning for Data Science\n",
        "\n",
        "คำชี้แจง\n",
        "\n",
        "1. ให้เริ่มทำปฏิบัติการจาก colab notebook ที่กำหนดให้ **เมื่อเสร็จแล้วให้ทำการ share** จากนั้นส่ง link มาใน mango canvas\n",
        "\n",
        "ในขั้นตอนแรก ขอให้ download ไฟล์ที่\n",
        "\n",
        "http://donlapark.pages.dev/229351/data/housing.csv"
      ]
    },
    {
      "cell_type": "code",
      "execution_count": null,
      "metadata": {
        "id": "SSRREm_DdrHg"
      },
      "outputs": [],
      "source": [
        "import pandas as pd #dataframes\n",
        "import numpy as np #matrices\n",
        "import matplotlib.pyplot as plt #for plotting\n",
        "\n",
        "%matplotlib inline\n",
        "\n",
        "!wget http://donlapark.pages.dev/229351/data/housing.csv"
      ]
    },
    {
      "cell_type": "code",
      "source": [
        "# Reading csv file\n",
        "\n"
      ],
      "metadata": {
        "id": "5B7rUdcI28zK"
      },
      "execution_count": null,
      "outputs": []
    },
    {
      "cell_type": "code",
      "source": [
        "# Showing at the top rows\n",
        "\n"
      ],
      "metadata": {
        "id": "GUV9E7IJ3Bm5"
      },
      "execution_count": null,
      "outputs": []
    },
    {
      "cell_type": "markdown",
      "metadata": {
        "id": "upzoFs-mK5ev"
      },
      "source": [
        "## Basic data exploration"
      ]
    },
    {
      "cell_type": "code",
      "execution_count": null,
      "metadata": {
        "id": "49GCMl_wHpDl"
      },
      "outputs": [],
      "source": [
        "# Data's shape\n",
        "\n"
      ]
    },
    {
      "cell_type": "code",
      "execution_count": null,
      "metadata": {
        "id": "Hd74qbAaeR0f"
      },
      "outputs": [],
      "source": [
        "# Data's information\n",
        "\n"
      ]
    },
    {
      "cell_type": "markdown",
      "metadata": {
        "id": "ahBik4dxLHHh"
      },
      "source": [
        "Which variable has missing data?"
      ]
    },
    {
      "cell_type": "code",
      "execution_count": null,
      "metadata": {
        "id": "1mG0VsHSHdSU"
      },
      "outputs": [],
      "source": [
        "# Drop rows with missing data\n",
        "\n"
      ]
    },
    {
      "cell_type": "code",
      "execution_count": null,
      "metadata": {
        "id": "WtgbcIp9KU6w"
      },
      "outputs": [],
      "source": [
        "# Data's information again\n",
        "\n"
      ]
    },
    {
      "cell_type": "code",
      "execution_count": null,
      "metadata": {
        "id": "NQ5Y-rARisPo"
      },
      "outputs": [],
      "source": [
        "# Data's summary statistics\n",
        "\n"
      ]
    },
    {
      "cell_type": "markdown",
      "metadata": {
        "id": "QvqbJODGOt4g"
      },
      "source": [
        "## Exercise 1\n",
        "\n",
        "1. Download ไฟล์ข้อมูลที่\n",
        "  http://donlapark.pages.dev/229351/data/Advertising.csv\n",
        "  ซึ่งเป็นข้อมูลของผลการขายสินค้าอย่างหนึ่ง (Sales) กับการโฆษณาผ่านทาง TV, Radio, Newspaper\n",
        "2. สร้าง dataframe ชื่อว่า **Ads** โดยใช้ข้อมูลชุดนี้\n",
        "3. ดูข้อมูล 5 แถวแรกของ `Ads`\n",
        "4. ตรวจสอบว่ามีข้อมูลที่หายไปหรือไม่\n",
        "5. แสดงค่าสถิติพรรณนา (Descriptive statistics) ของตัวแปรต่างๆ"
      ]
    },
    {
      "cell_type": "code",
      "execution_count": null,
      "metadata": {
        "id": "D3AiDwqorxd-"
      },
      "outputs": [],
      "source": [
        "# WRITE YOUR CODE HERE\n",
        "\n",
        "\n",
        "\n"
      ]
    },
    {
      "cell_type": "markdown",
      "metadata": {
        "id": "BGRf5Q4lrUx7"
      },
      "source": [
        "Your answers here:"
      ]
    },
    {
      "cell_type": "markdown",
      "metadata": {
        "id": "SVybM6hDK_EZ"
      },
      "source": [
        "## Calling, indexing & modifying dataframes"
      ]
    },
    {
      "cell_type": "code",
      "execution_count": null,
      "metadata": {
        "id": "nXy5ao6OMRZQ"
      },
      "outputs": [],
      "source": [
        "# Indexing a column\n",
        "\n"
      ]
    },
    {
      "cell_type": "code",
      "execution_count": null,
      "metadata": {
        "id": "Xa8XxjnrNuN-"
      },
      "outputs": [],
      "source": [
        "housing[[\"longitude\", \"latitude\", \"housing_median_age\"]]"
      ]
    },
    {
      "cell_type": "markdown",
      "metadata": {
        "id": "VAbEDThTMqQm"
      },
      "source": [
        "`ocean_proximity` is categorical. Let's count its values."
      ]
    },
    {
      "cell_type": "code",
      "execution_count": null,
      "metadata": {
        "id": "8gwOWxrlMmGx"
      },
      "outputs": [],
      "source": [
        "# Count values in a column\n",
        "\n",
        "\n"
      ]
    },
    {
      "cell_type": "code",
      "execution_count": null,
      "metadata": {
        "id": "DY1s18C5M6mp"
      },
      "outputs": [],
      "source": [
        "# Indexing rows by row id's\n",
        "\n"
      ]
    },
    {
      "cell_type": "code",
      "execution_count": null,
      "metadata": {
        "id": "kFJS1xTiSjP0"
      },
      "outputs": [],
      "source": [
        "# Indexing rows by row indices\n",
        "\n"
      ]
    },
    {
      "cell_type": "code",
      "execution_count": null,
      "metadata": {
        "id": "XxZdjpiBPS4u"
      },
      "outputs": [],
      "source": [
        "# Indexing both rows and columns\n",
        "\n"
      ]
    },
    {
      "cell_type": "markdown",
      "metadata": {
        "id": "cKBdn6GuX-ts"
      },
      "source": [
        "## Basic statistics of a variable"
      ]
    },
    {
      "cell_type": "code",
      "execution_count": null,
      "metadata": {
        "id": "XgNQ-7G0XnKU"
      },
      "outputs": [],
      "source": [
        "# Column's statistics\n",
        "\n",
        "\n"
      ]
    },
    {
      "cell_type": "markdown",
      "metadata": {
        "id": "YjEKjsWRTCk9"
      },
      "source": [
        "## Selecting rows based on conditions"
      ]
    },
    {
      "cell_type": "code",
      "execution_count": null,
      "metadata": {
        "id": "eG0ICaDbTGeJ"
      },
      "outputs": [],
      "source": [
        "# Indexing rows based on one condition\n",
        "\n"
      ]
    },
    {
      "cell_type": "code",
      "execution_count": null,
      "metadata": {
        "id": "N-HGxUqbUMS4"
      },
      "outputs": [],
      "source": [
        "# Indexing rows based on multiple conditions\n",
        "\n",
        "\n"
      ]
    },
    {
      "cell_type": "markdown",
      "metadata": {
        "id": "pivXOYE1Uhol"
      },
      "source": [
        "## Exercise 2\n",
        "\n",
        "ในข้อต่อไปนี้ ให้นับแถวและคอลัมน์เริ่มจาก 0\n",
        "1. แสดงค่าสูงสุดของข้อมูลที่อยู่ในแถวที่ 200-400 ของตัวแปร `total_bedrooms`\n",
        "2. แสดง 3 คอลัมน์สุดท้ายของพื้นที่ที่มีจำนวนห้องนอน (`total_bedrooms`) มากกว่า 900 ห้อง"
      ]
    },
    {
      "cell_type": "code",
      "execution_count": null,
      "metadata": {
        "id": "vGS_V4dW1wli"
      },
      "outputs": [],
      "source": [
        "# WRITE YOUR CODE HERE\n",
        "\n",
        "\n",
        "\n"
      ]
    },
    {
      "cell_type": "markdown",
      "metadata": {
        "id": "8DdzR2tNxwNS"
      },
      "source": [
        "## Plotting"
      ]
    },
    {
      "cell_type": "code",
      "execution_count": null,
      "metadata": {
        "id": "MDLNDwW-izL-"
      },
      "outputs": [],
      "source": [
        "housing.hist(bins=20, figsize=(15,15))\n",
        "plt.show()"
      ]
    },
    {
      "cell_type": "code",
      "execution_count": null,
      "metadata": {
        "id": "lgRyhvhmYe-Z"
      },
      "outputs": [],
      "source": [
        "housing.head(3)"
      ]
    },
    {
      "cell_type": "code",
      "execution_count": null,
      "metadata": {
        "id": "MvR4go7gkjg3"
      },
      "outputs": [],
      "source": [
        "housing.plot.scatter(x=\"longitude\", y=\"latitude\");"
      ]
    },
    {
      "cell_type": "code",
      "execution_count": null,
      "metadata": {
        "id": "_6q-QA-fksSy"
      },
      "outputs": [],
      "source": [
        "housing.plot.scatter(x=\"longitude\", y=\"latitude\", alpha=0.1)"
      ]
    },
    {
      "cell_type": "code",
      "execution_count": null,
      "metadata": {
        "id": "_CA6a2dAk31N"
      },
      "outputs": [],
      "source": [
        "corr_matrix = housing.corr()\n",
        "\n",
        "corr_matrix"
      ]
    },
    {
      "cell_type": "markdown",
      "metadata": {
        "id": "UmU2dWrduOet"
      },
      "source": [
        "### Grouping\n",
        "\n",
        "พิจารณา Anscombe dataset ข้างล่างนี้"
      ]
    },
    {
      "cell_type": "code",
      "execution_count": null,
      "metadata": {
        "id": "ZyUH-OJEgKAx"
      },
      "outputs": [],
      "source": [
        "import seaborn as sns\n",
        "\n",
        "df = sns.load_dataset('anscombe')"
      ]
    },
    {
      "cell_type": "code",
      "execution_count": null,
      "metadata": {
        "id": "w1hvYsS9c7aV"
      },
      "outputs": [],
      "source": [
        "df"
      ]
    },
    {
      "cell_type": "code",
      "execution_count": null,
      "metadata": {
        "id": "fMEFyua4dygD"
      },
      "outputs": [],
      "source": [
        "groups = df.groupby('dataset')"
      ]
    },
    {
      "cell_type": "code",
      "execution_count": null,
      "metadata": {
        "id": "w3efL1Fbc_yx"
      },
      "outputs": [],
      "source": [
        "groups.get_group('I')"
      ]
    },
    {
      "cell_type": "code",
      "execution_count": null,
      "metadata": {
        "id": "GjwYjL0xetEV"
      },
      "outputs": [],
      "source": [
        "groups.max()"
      ]
    },
    {
      "cell_type": "markdown",
      "metadata": {
        "id": "31VEO9hkcmhK"
      },
      "source": [
        "## Exercise 3\n",
        "\n",
        "1. คำนวณค่า mean, standard deviation และ correlation matrix ของแต่ละกลุ่ม\n",
        "2. สร้าง scatter plot ของแต่ละกลุ่มด้วย `groups.plot.scatter(...)`\n",
        "3. จาก 2 ข้อข้างบน ให้บอกว่าทำไมการคำนวณค่าสถิติต่างๆ (mean, s.d., correlation) ยังไม่เพียงพอที่จะศึกษาข้อมูลชุดหนึ่ง"
      ]
    },
    {
      "cell_type": "markdown",
      "metadata": {
        "id": "xCBZSLEJgSu_"
      },
      "source": []
    }
  ],
  "metadata": {
    "colab": {
      "name": "229351-LAB01.ipynb",
      "provenance": [],
      "include_colab_link": true
    },
    "kernelspec": {
      "display_name": "Python 3 (ipykernel)",
      "language": "python",
      "name": "python3"
    },
    "language_info": {
      "codemirror_mode": {
        "name": "ipython",
        "version": 3
      },
      "file_extension": ".py",
      "mimetype": "text/x-python",
      "name": "python",
      "nbconvert_exporter": "python",
      "pygments_lexer": "ipython3",
      "version": "3.10.12"
    }
  },
  "nbformat": 4,
  "nbformat_minor": 0
}