{
 "cells": [
  {
   "cell_type": "markdown",
   "metadata": {
    "id": "rUWDxJYaXbGS"
   },
   "source": [
    "ปฏิบัติการครั้งที่ 7 กระบวนวิชา 229351 Statistical Learning for Data Science\n",
    "\n",
    "คำชี้แจง\n",
    "\n",
    "ให้เริ่มทำปฏิบัติการจาก colab notebook หรือไฟล์ *.ipynb ที่กำหนดให้ จากนั้นบันทึกไว้เป็นไฟล์ *.pdf แล้วส่งใน Assignments"
   ]
  },
  {
   "cell_type": "markdown",
   "metadata": {
    "id": "BFeBRlckOxSG"
   },
   "source": [
    "ดาวน์โหลดข้อมูลรถยนต์ชนิดต่างใน link ข้างล่างนี้  \n",
    "https://donlapark.pages.dev/229351/data/elecequip.csv"
   ]
  },
  {
   "cell_type": "code",
   "execution_count": null,
   "metadata": {
    "id": "ntO6KNB7A24q"
   },
   "outputs": [],
   "source": [
    "# uploading the csv file to colab\n",
    "\n",
    "!wget -O elecequip.csv https://donlapark.pages.dev/229351/data/elecequip.csv"
   ]
  },
  {
   "cell_type": "code",
   "execution_count": null,
   "metadata": {
    "id": "5Tebr3-dBKxj"
   },
   "outputs": [],
   "source": [
    "# import module ที่ต้องใช้\n",
    "import numpy as np\n",
    "import pandas as pd\n",
    "import matplotlib.pyplot as plt\n",
    "from datetime import datetime"
   ]
  },
  {
   "cell_type": "code",
   "execution_count": null,
   "metadata": {
    "id": "2SAbpyMIz7R8"
   },
   "outputs": [],
   "source": [
    "# parse_dates ชื่อของคอลัมน์ที่จะเปลี่ยนให้เป็น datetime\n",
    "# index_col ชื่อของคอลัมน์ที่จะให้เป็น index\n",
    "# date_parser ฟังก์ชันที่เปลี่ยน string ให้เป็น datetime\n",
    "data = pd.read_csv('elecequip.csv', parse_dates=['time'], \n",
    "                                        index_col='time',\n",
    "                                        date_format='%Y-%m')\n",
    "\n",
    "data"
   ]
  },
  {
   "cell_type": "code",
   "execution_count": null,
   "metadata": {
    "id": "6njJmujsAUNv"
   },
   "outputs": [],
   "source": [
    "plt.figure(figsize=(12,6))\n",
    "plt.plot(data[\"value\"]);"
   ]
  },
  {
   "cell_type": "code",
   "execution_count": null,
   "metadata": {},
   "outputs": [],
   "source": [
    "# subsetting data at specified date\n",
    "\n",
    "data"
   ]
  },
  {
   "cell_type": "code",
   "execution_count": null,
   "metadata": {},
   "outputs": [],
   "source": [
    "# Add or change values\n",
    "\n",
    "data.loc['2012-03-02','value'] = 86\n",
    "\n",
    "data"
   ]
  },
  {
   "cell_type": "markdown",
   "metadata": {
    "id": "CePUIQL7ujg9"
   },
   "source": [
    "# Moving average"
   ]
  },
  {
   "cell_type": "code",
   "execution_count": null,
   "metadata": {
    "id": "awvDOk0RUb0Q"
   },
   "outputs": [],
   "source": [
    "data['MA'] = data['value'].rolling(window=5,center=True).mean() \n",
    "#data['MA'] = data['value'].rolling(window=12,center=True).mean().rolling(window=2).mean().shift(-1)\n",
    "\n",
    "data.head(12)"
   ]
  },
  {
   "cell_type": "code",
   "execution_count": null,
   "metadata": {
    "id": "vCl5Lve9au3u"
   },
   "outputs": [],
   "source": [
    "plt.figure(figsize=(12,6))\n",
    "plt.plot(data['value'])\n",
    "plt.plot(data['MA']);"
   ]
  },
  {
   "cell_type": "markdown",
   "metadata": {
    "id": "iORnr4Hlu1VD"
   },
   "source": [
    "# Classical decomposition"
   ]
  },
  {
   "cell_type": "code",
   "execution_count": null,
   "metadata": {
    "id": "Pmu4xKUlTas-"
   },
   "outputs": [],
   "source": [
    "from statsmodels.tsa.seasonal import seasonal_decompose\n",
    "import matplotlib as mpl\n",
    "\n",
    "mpl.rc(\"figure\", figsize=(12,6))\n",
    "result_add = seasonal_decompose(data['value'], model='additive')\n",
    "\n",
    "result_add.plot();"
   ]
  },
  {
   "cell_type": "code",
   "execution_count": null,
   "metadata": {
    "id": "yyxg_HLE5ZZW"
   },
   "outputs": [],
   "source": [
    "result_mul = seasonal_decompose(data['value'], model='multiplicative')\n",
    "\n",
    "result_mul.plot();"
   ]
  },
  {
   "cell_type": "markdown",
   "metadata": {
    "id": "v9VA-hRhu8lR"
   },
   "source": [
    "### เรียกดูแต่ละส่วน"
   ]
  },
  {
   "cell_type": "code",
   "execution_count": null,
   "metadata": {
    "id": "gZwEPEzRnUHi"
   },
   "outputs": [],
   "source": [
    "print(result_add.trend)\n",
    "print(result_add.seasonal)\n",
    "print(result_add.resid)\n",
    "print(result_add.observed)"
   ]
  },
  {
   "cell_type": "markdown",
   "metadata": {
    "id": "GCEezvL2oPx2"
   },
   "source": [
    "### ปฏิบัติการครั้งที่ 7 \n",
    "1. สร้างโมเดลเพื่อการทำนายดังนี้\n",
    "1.1 แบ่งข้อมูลออกเป็น 2 ส่วน\n",
    "   - training set: วันที่ 1996-01-01 ถึง 2009-12-01\n",
    "   - test set: วันที่ 2010-01-01 ถึง 2012-03-01  \n",
    "1.2 แยกส่วนประกอบ $y_t=S_t+T_t+R_t$ บน training set\n",
    "1.3 สร้าง time series ชุดใหม่ที่แสดงถึงทำนายค่าบน test set โดยนำค่า $T_t+R_t$ ของวันล่าสุดใน training set ที่มีค่า $T_t$ มาบวกกับแต่ละค่าใน $S_t$ จากวันที่ วันที่ 2010-01-01 ถึง 2012-03-01  \n",
    "3. คำนวณ RMSE โดยใช้ฟังก์ชัน `rmse` ข้างล่าง\n",
    "4. แสดงแผนภาพข้อมูล elecequip และค่าทำนายที่ได้"
   ]
  },
  {
   "cell_type": "code",
   "execution_count": null,
   "metadata": {
    "id": "PrAalcnNt9Wa"
   },
   "outputs": [],
   "source": [
    "def rmse(y_true,y_pred):\n",
    "  # Inputs\n",
    "  # y_true: actual value, y_pred: predicted values\n",
    "  # Output: RMSE between y_true and y_pred\n",
    "  return np.sqrt(np.mean(np.square(y_true-y_pred)))"
   ]
  },
  {
   "cell_type": "code",
   "execution_count": null,
   "metadata": {
    "id": "SufKu823LieW"
   },
   "outputs": [],
   "source": [
    "ax = ts_new.plot(marker='o', color='black', figsize=(20,8))"
   ]
  }
 ],
 "metadata": {
  "colab": {
   "collapsed_sections": [],
   "name": "229351-LAB09.ipynb",
   "provenance": [
    {
     "file_id": "1k58-rg4oQW3wpRV4o0QKkjNuoDH4G6JK",
     "timestamp": 1576730343500
    }
   ]
  },
  "kernelspec": {
   "display_name": "Python 3 (ipykernel)",
   "language": "python",
   "name": "python3"
  },
  "language_info": {
   "codemirror_mode": {
    "name": "ipython",
    "version": 3
   },
   "file_extension": ".py",
   "mimetype": "text/x-python",
   "name": "python",
   "nbconvert_exporter": "python",
   "pygments_lexer": "ipython3",
   "version": "3.10.12"
  }
 },
 "nbformat": 4,
 "nbformat_minor": 4
}
