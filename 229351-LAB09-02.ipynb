{
 "cells": [
  {
   "cell_type": "markdown",
   "metadata": {
    "id": "rUWDxJYaXbGS"
   },
   "source": [
    "### ปฏิบัติการครั้งที่ 9\n",
    "\n",
    "ดาวน์โหลดข้อมูลอุณหภูมิสูงสุดรายวันปี 1998-2019 จาก link ข้างล่างนี้  \n",
    "https://donlapark.pages.dev/229351/data/CM_temp.csv \n",
    "\n",
    "1. เปลี่ยนจากข้อมูลรายวันให้เป็นข้อมูลค่าเฉลี่ยรายเดือน\n",
    "2. จงแบ่งข้อมูลโดยให้ Test set เป็นข้อมูลของ 2 ปีสุดท้ายและ Training set เป็นข้อมูลที่เหลือ\n",
    "3. ลองสร้างโมเดล SARIMA อันดับต่างๆ แล้วระบุโมเดลที่ดีที่สุด\n",
    "4. จงแสดงแผนภาพของข้อมูลจริงกับข้อมูลที่ได้ในข้อ 3"
   ]
  },
  {
   "cell_type": "code",
   "execution_count": null,
   "metadata": {
    "id": "ZTespzQdhx9c"
   },
   "outputs": [],
   "source": [
    "# ONLY RUN THIS WHEN THERE IS AN ERROR\n",
    "!pip install --user statsmodels==0.13.1"
   ]
  },
  {
   "cell_type": "code",
   "execution_count": null,
   "metadata": {
    "id": "ntO6KNB7A24q"
   },
   "outputs": [],
   "source": [
    "!wget -O CM_temp.csv https://donlapark.pages.dev/229351/data/CM_temp.csv "
   ]
  },
  {
   "cell_type": "code",
   "execution_count": null,
   "metadata": {
    "id": "Pw5C88lFyG1S"
   },
   "outputs": [],
   "source": [
    "!pip3 install pmdarima"
   ]
  },
  {
   "cell_type": "code",
   "execution_count": null,
   "metadata": {
    "id": "5Tebr3-dBKxj"
   },
   "outputs": [],
   "source": [
    "# import module ที่ต้องใช้\n",
    "import numpy as np\n",
    "import pandas as pd\n",
    "import matplotlib.pyplot as plt\n",
    "import pmdarima as pm\n",
    "from statsmodels.tsa.stattools import adfuller, kpss\n",
    "from statsmodels.tsa.arima.model import ARIMA\n"
   ]
  },
  {
   "cell_type": "code",
   "execution_count": null,
   "metadata": {
    "id": "gG3PB_P7yZBH"
   },
   "outputs": [],
   "source": [
    "# ฟังก์ชันที่เปลี่ยน string ให้เป็น datetime\n",
    "def parser(dates):\n",
    "  return pd.datetime.strptime(dates, '%Y-%m-%d')\n",
    "\n",
    "# parse_dates ชื่อของคอลัมน์ที่จะเปลี่ยนให้เป็น datetime\n",
    "# index_col ชื่อของคอลัมน์ที่จะให้เป็น index\n",
    "# date_parser ฟังก์ชันที่เปลี่ยน string ให้เป็น datetime\n",
    "data = pd.read_csv('CM_temp.csv', parse_dates=['Date'], \n",
    "                                        index_col='Date',\n",
    "                                        date_parser=parser)\n",
    "\n",
    "data.head()"
   ]
  },
  {
   "cell_type": "markdown",
   "metadata": {
    "id": "7Mow9q7kyZni"
   },
   "source": [
    "ข้อมูล (สมมติว่าชื่อ `data`) ที่ load มาเป็นข้อมูลรายวัน ทำการหาค่าเฉลี่ยรายเดือนด้วยคำสั่ง"
   ]
  },
  {
   "cell_type": "code",
   "execution_count": null,
   "metadata": {
    "id": "2SAbpyMIz7R8"
   },
   "outputs": [],
   "source": [
    "y = data['MaxTemp'].resample(\"M\").mean()"
   ]
  },
  {
   "cell_type": "code",
   "execution_count": null,
   "metadata": {
    "id": "2Pw4z4ueEYwp"
   },
   "outputs": [],
   "source": [
    "def rmse(y_true,y_pred):\n",
    "  # Inputs\n",
    "  # y_true: actual value, y_pred: predicted values\n",
    "  # Output: RMSE between y_true and y_pred\n",
    "  return np.sqrt(np.mean(np.square(y_true-y_pred)))"
   ]
  },
  {
   "cell_type": "code",
   "execution_count": null,
   "metadata": {
    "id": "sB7x0XJpEZk3"
   },
   "outputs": [],
   "source": [
    "train = y[:-24]\n",
    "test = y[-24:]\n",
    "\n",
    "print(test)"
   ]
  }
 ],
 "metadata": {
  "colab": {
   "collapsed_sections": [],
   "name": "229351-LAB11-02.ipynb",
   "provenance": [
    {
     "file_id": "1k58-rg4oQW3wpRV4o0QKkjNuoDH4G6JK",
     "timestamp": 1576730343500
    }
   ]
  },
  "kernelspec": {
   "display_name": "Python 3 (ipykernel)",
   "language": "python",
   "name": "python3"
  },
  "language_info": {
   "codemirror_mode": {
    "name": "ipython",
    "version": 3
   },
   "file_extension": ".py",
   "mimetype": "text/x-python",
   "name": "python",
   "nbconvert_exporter": "python",
   "pygments_lexer": "ipython3",
   "version": "3.10.12"
  }
 },
 "nbformat": 4,
 "nbformat_minor": 4
}
